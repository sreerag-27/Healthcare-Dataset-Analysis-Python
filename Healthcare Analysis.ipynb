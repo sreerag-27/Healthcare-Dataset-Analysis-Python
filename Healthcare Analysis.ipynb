{
 "cells": [
  {
   "cell_type": "code",
   "execution_count": 1,
   "id": "0250c2dc",
   "metadata": {},
   "outputs": [],
   "source": [
    "# Importing Library \n",
    "import pandas as pd\n",
    "import numpy as np\n",
    "import matplotlib.pyplot as plt\n",
    "import seaborn as sns\n",
    "sns.set_style('darkgrid')\n",
    "\n",
    "# Showing max columns and rows\n",
    "pd.set_option(\"display.max_columns\",None)\n",
    "pd.set_option('display.max_rows',None)\n",
    "pd.option_context('mode.use_inf_as_na', True)\n",
    "\n",
    "# Ignore warnings\n",
    "import warnings\n",
    "warnings.filterwarnings('ignore')"
   ]
  },
  {
   "cell_type": "code",
   "execution_count": 2,
   "id": "b60ef826",
   "metadata": {},
   "outputs": [],
   "source": [
    "# Importing Dataset\n",
    "healthcare = pd.read_csv('E:\\Project for Resume\\Python Healthcare Analysis Project\\Healthcare Dataset\\healthcare_dataset.csv')\n",
    "healthcare.head()"
   ]
  },
  {
   "cell_type": "code",
   "execution_count": 3,
   "id": "18e4fe9e",
   "metadata": {},
   "outputs": [],
   "source": [
    "# Checking for null values\n",
    "healthcare.isnull().sum()"
   ]
  },
  {
   "cell_type": "code",
   "execution_count": 4,
   "id": "5936ceb7",
   "metadata": {},
   "outputs": [],
   "source": [
    "# checking for Blank Values\n",
    "healthcare.isna().sum()"
   ]
  },
  {
   "cell_type": "code",
   "execution_count": 5,
   "id": "57ffd97d",
   "metadata": {},
   "outputs": [],
   "source": [
    "healthcare.duplicated().sum()"
   ]
  },
  {
   "cell_type": "code",
   "execution_count": 6,
   "id": "1a7d30f9",
   "metadata": {},
   "outputs": [],
   "source": [
    "healthcare.head()"
   ]
  },
  {
   "cell_type": "code",
   "execution_count": 7,
   "id": "f1b70230",
   "metadata": {},
   "outputs": [],
   "source": [
    "healthcare.columns"
   ]
  },
  {
   "cell_type": "code",
   "execution_count": 8,
   "id": "8195201b",
   "metadata": {},
   "outputs": [],
   "source": [
    "healthcare.info()"
   ]
  },
  {
   "cell_type": "code",
   "execution_count": 9,
   "id": "8427f913",
   "metadata": {},
   "outputs": [],
   "source": [
    "healthcare['Date of Admission'] = pd.to_datetime(healthcare['Date of Admission'],format = '%Y-%m-%d')\n",
    "healthcare.info()"
   ]
  },
  {
   "cell_type": "code",
   "execution_count": 10,
   "id": "216a79d2",
   "metadata": {},
   "outputs": [],
   "source": [
    "healthcare['Discharge Date'] = pd.to_datetime(healthcare['Discharge Date'])\n",
    "healthcare['Discharge Date'].info()"
   ]
  },
  {
   "cell_type": "code",
   "execution_count": 11,
   "id": "110e2c75",
   "metadata": {},
   "outputs": [],
   "source": [
    "healthcare['Billing Amount']=round(healthcare[['Billing Amount']],2)\n",
    "healthcare.head()"
   ]
  },
  {
   "cell_type": "code",
   "execution_count": 12,
   "id": "0cbe7755",
   "metadata": {},
   "outputs": [],
   "source": [
    "healthcare.describe()"
   ]
  },
  {
   "cell_type": "code",
   "execution_count": 13,
   "id": "7a7d40f7",
   "metadata": {},
   "outputs": [],
   "source": [
    "healthcare['Age'].mean()\n",
    "print('The Average age of overall pateints is {}.'.format(round(healthcare['Age'].mean(),2)))"
   ]
  },
  {
   "cell_type": "code",
   "execution_count": 14,
   "id": "b24b7d02",
   "metadata": {},
   "outputs": [],
   "source": [
    "avg_age_by_gender = round(healthcare[['Gender','Age']].groupby('Gender')[['Age']].mean(),2)\n",
    "avg_age_by_gender"
   ]
  },
  {
   "cell_type": "code",
   "execution_count": 15,
   "id": "a502ff7d",
   "metadata": {},
   "outputs": [],
   "source": [
    "gender=pd.DataFrame(healthcare[['Gender']].value_counts())\n",
    "gender.reset_index(inplace =True)\n",
    "gender"
   ]
  },
  {
   "cell_type": "code",
   "execution_count": 16,
   "id": "a74417c1",
   "metadata": {},
   "outputs": [],
   "source": [
    "plt.figure(figsize = (4,5))\n",
    "plt.pie(x=gender['count'],labels=gender['Gender'], autopct='%1.1f%%');"
   ]
  },
  {
   "cell_type": "code",
   "execution_count": 17,
   "id": "a90743d7",
   "metadata": {},
   "outputs": [],
   "source": [
    "healthcare.head()"
   ]
  },
  {
   "cell_type": "code",
   "execution_count": 18,
   "id": "3ec49495",
   "metadata": {},
   "outputs": [],
   "source": [
    "male_female_patients =  healthcare[['Gender']].value_counts()\n",
    "male_female_patients"
   ]
  },
  {
   "cell_type": "code",
   "execution_count": 19,
   "id": "4e0becbf",
   "metadata": {},
   "outputs": [],
   "source": [
    "healthcare.head()"
   ]
  },
  {
   "cell_type": "code",
   "execution_count": 20,
   "id": "1d44c838",
   "metadata": {},
   "outputs": [],
   "source": [
    "healthcare['Blood Type'].unique()\n",
    "print('Different Blood Types are {}.'.format(healthcare['Blood Type'].unique()))"
   ]
  },
  {
   "cell_type": "code",
   "execution_count": 21,
   "id": "6152ac67",
   "metadata": {},
   "outputs": [],
   "source": [
    "healthcare[['Hospital']].nunique()"
   ]
  },
  {
   "cell_type": "code",
   "execution_count": 22,
   "id": "5ce09341",
   "metadata": {},
   "outputs": [],
   "source": [
    "# there are 8639 Hospitals , but top 20 hospitals with count of patients are  \n",
    "healthcare[['Hospital','Name']].groupby('Hospital')[['Name']].count().rename(\n",
    "    columns = {'Name':'Patient Count'}).sort_values('Patient Count',ascending = False).reset_index()"
   ]
  },
  {
   "cell_type": "code",
   "execution_count": 23,
   "id": "28154df1",
   "metadata": {},
   "outputs": [],
   "source": [
    "healthcare.head()"
   ]
  },
  {
   "cell_type": "code",
   "execution_count": 24,
   "id": "7068b9ed",
   "metadata": {},
   "outputs": [],
   "source": [
    "common_medical_patients = healthcare.groupby('Medical Condition')[['Medical Condition']].count()\n",
    "common_medical_patients"
   ]
  },
  {
   "cell_type": "code",
   "execution_count": 25,
   "id": "277d8470",
   "metadata": {},
   "outputs": [],
   "source": [
    "plt.figure(figsize =(12,4))\n",
    "ax= sns.countplot(data= healthcare, \n",
    "                  x = 'Medical Condition',\n",
    "                  palette = 'GnBu_r',\n",
    "                  order = healthcare['Medical Condition'].value_counts().index)\n",
    "for bars in ax.containers:\n",
    "    ax.bar_label(ax.containers[0])"
   ]
  },
  {
   "cell_type": "code",
   "execution_count": 26,
   "id": "1a6feab9",
   "metadata": {},
   "outputs": [],
   "source": [
    "healthcare.head()"
   ]
  },
  {
   "cell_type": "code",
   "execution_count": 27,
   "id": "b007ad44",
   "metadata": {},
   "outputs": [],
   "source": [
    "healthcare['Insurance Provider'].unique()"
   ]
  },
  {
   "cell_type": "code",
   "execution_count": 28,
   "id": "e9149b31",
   "metadata": {},
   "outputs": [],
   "source": [
    "healthcare['Insurance Provider'].value_counts()"
   ]
  },
  {
   "cell_type": "code",
   "execution_count": 29,
   "id": "1b90add3",
   "metadata": {},
   "outputs": [],
   "source": [
    "plt.figure(figsize =(12,4))\n",
    "ax = sns.countplot(data = healthcare,\n",
    "                   x='Insurance Provider',\n",
    "                   palette = 'Purples',\n",
    "                  order = healthcare['Insurance Provider'].value_counts().index)\n",
    "for bars in ax.containers:\n",
    "    ax.bar_label(ax.containers[0]);"
   ]
  },
  {
   "cell_type": "code",
   "execution_count": 30,
   "id": "91802ea0",
   "metadata": {},
   "outputs": [],
   "source": [
    "healthcare.head()"
   ]
  },
  {
   "cell_type": "code",
   "execution_count": 31,
   "id": "ee3830fe",
   "metadata": {},
   "outputs": [],
   "source": [
    "avg_billing_amt = round(healthcare[['Admission Type','Billing Amount']].groupby('Admission Type').mean(),2)\n",
    "avg_billing_amt.rename(columns={'Billing Amount':'Average Billing Amount'},inplace = True)\n",
    "avg_billing_amt = avg_billing_amt.sort_values('Average Billing Amount',ascending = False)\n",
    "avg_billing_amt"
   ]
  },
  {
   "cell_type": "code",
   "execution_count": 32,
   "id": "4d78719e",
   "metadata": {},
   "outputs": [],
   "source": [
    "plt.figure(figsize =(6,3))\n",
    "\n",
    "ax = sns.barplot(data = avg_billing_amt , \n",
    "                 x = avg_billing_amt.index,\n",
    "                 y = 'Average Billing Amount',\n",
    "                 palette = 'gist_earth_r' )\n",
    "for bars in ax.containers:\n",
    "    ax.bar_label(bars)"
   ]
  },
  {
   "cell_type": "code",
   "execution_count": 33,
   "id": "3ca5e567",
   "metadata": {},
   "outputs": [],
   "source": [
    "healthcare.head()"
   ]
  },
  {
   "cell_type": "code",
   "execution_count": 34,
   "id": "030e9692",
   "metadata": {},
   "outputs": [],
   "source": [
    "distribution = pd.DataFrame(healthcare[['Name','Room Number']].value_counts() )\n",
    "distribution"
   ]
  },
  {
   "cell_type": "code",
   "execution_count": 35,
   "id": "6a1167c7",
   "metadata": {},
   "outputs": [],
   "source": [
    "distribution[distribution['count']>=2]"
   ]
  },
  {
   "cell_type": "code",
   "execution_count": 36,
   "id": "e2a7fa0f",
   "metadata": {},
   "outputs": [],
   "source": [
    "healthcare.head()"
   ]
  },
  {
   "cell_type": "code",
   "execution_count": 37,
   "id": "5ca1fd90",
   "metadata": {},
   "outputs": [],
   "source": [
    "doctor = pd.DataFrame(healthcare[['Doctor','Name']].groupby('Doctor')['Name'].count())\n",
    "doctor.rename(columns={'Name':'Counts'},inplace= True)\n",
    "doctor = doctor[doctor['Counts']>=2].sort_values('Counts',ascending = False)\n",
    "doctor"
   ]
  },
  {
   "cell_type": "code",
   "execution_count": 38,
   "id": "8fe52217",
   "metadata": {},
   "outputs": [],
   "source": [
    "doctor[(doctor['Counts']>=2) & (doctor['Counts']<=7)]"
   ]
  },
  {
   "cell_type": "code",
   "execution_count": 39,
   "id": "81a6bdf6",
   "metadata": {},
   "outputs": [],
   "source": [
    "healthcare.info()"
   ]
  },
  {
   "cell_type": "code",
   "execution_count": 40,
   "id": "ef55aba3",
   "metadata": {},
   "outputs": [],
   "source": [
    "healthcare['doa_month'] = healthcare['Date of Admission'].dt.month\n",
    "healthcare['doa_year'] = healthcare['Date of Admission'].dt.year\n",
    "healthcare.info()"
   ]
  },
  {
   "cell_type": "code",
   "execution_count": 41,
   "id": "b506a460",
   "metadata": {},
   "outputs": [],
   "source": [
    "admission_by_year = healthcare[['Date of Admission','doa_year']].groupby(['doa_year']).count()\n",
    "admission_by_year"
   ]
  },
  {
   "cell_type": "code",
   "execution_count": 42,
   "id": "bff7b6fc",
   "metadata": {},
   "outputs": [],
   "source": [
    "plt.figure(figsize=(10,4))\n",
    "sns.lineplot(data = admission_by_year,y='Date of Admission',x='doa_year')\n",
    "plt.xlabel('Year');"
   ]
  },
  {
   "cell_type": "code",
   "execution_count": 43,
   "id": "9f442d0b",
   "metadata": {},
   "outputs": [],
   "source": [
    "year = healthcare[['Date of Admission','doa_year','doa_month']].groupby(['doa_year','doa_month']).count()\n",
    "year.reset_index(inplace = True)\n",
    "year.rename(columns={'Date of Admission': 'Counts'},inplace = True)\n",
    "year"
   ]
  },
  {
   "cell_type": "code",
   "execution_count": 44,
   "id": "0668125c",
   "metadata": {},
   "outputs": [],
   "source": [
    "year_2018 = year[year['doa_year'] == 2018]\n",
    "\n",
    "year_2019 = year[year['doa_year'] == 2019]\n",
    "\n",
    "year_2020 = year[year['doa_year'] == 2020]\n",
    "\n",
    "year_2021 = year[year['doa_year'] == 2021]\n",
    "\n",
    "year_2022 = year[year['doa_year'] == 2022]\n",
    "\n",
    "year_2023 = year[year['doa_year'] == 2023]"
   ]
  },
  {
   "cell_type": "code",
   "execution_count": 45,
   "id": "ce09566f",
   "metadata": {},
   "outputs": [],
   "source": [
    "# creating subplots\n",
    "plt.figure(figsize=(12,15))\n",
    "\n",
    "plt.subplot(3,3,1)\n",
    "plt.xlabel('Months')\n",
    "plt.ylabel('Counts')\n",
    "plt.title('Year 2018')\n",
    "sns.lineplot(data = year_2018,x='doa_month', y='Counts');\n",
    "\n",
    "plt.subplot(3,3,2)\n",
    "plt.xlabel('Months')\n",
    "plt.ylabel('Counts')\n",
    "plt.title('Year 2019')\n",
    "sns.lineplot(data = year_2019,x='doa_month', y='Counts');\n",
    "\n",
    "plt.subplot(3,3,3)\n",
    "plt.xlabel('Months')\n",
    "plt.ylabel('Counts')\n",
    "plt.title('Year 2020')\n",
    "sns.lineplot(data = year_2020,x='doa_month', y='Counts');\n",
    "\n",
    "plt.subplot(3,3,4)\n",
    "plt.xlabel('Months')\n",
    "plt.ylabel('Counts')\n",
    "plt.title('Year 2021')\n",
    "sns.lineplot(data = year_2021,x='doa_month', y='Counts');\n",
    "\n",
    "plt.subplot(3,3,5)\n",
    "plt.xlabel('Months')\n",
    "plt.ylabel('Counts')\n",
    "plt.title('Year 2022')\n",
    "sns.lineplot(data = year_2022,x='doa_month', y='Counts');\n",
    "\n",
    "plt.subplot(3,3,6)\n",
    "plt.xlabel('Months')\n",
    "plt.ylabel('Counts')\n",
    "plt.title('Year 2023')\n",
    "sns.lineplot(data = year_2023,x='doa_month', y='Counts');"
   ]
  },
  {
   "cell_type": "code",
   "execution_count": 46,
   "id": "ff872caf",
   "metadata": {},
   "outputs": [],
   "source": [
    "healthcare.head()"
   ]
  },
  {
   "cell_type": "code",
   "execution_count": 47,
   "id": "2e0a39f9",
   "metadata": {},
   "outputs": [],
   "source": [
    "healthcare.info()"
   ]
  },
  {
   "cell_type": "code",
   "execution_count": 48,
   "id": "d7c2ac02",
   "metadata": {},
   "outputs": [],
   "source": [
    "Age_Billing_Amount_corr = healthcare['Age'].corr(healthcare['Billing Amount'])\n",
    "print('Patients Age And Billing Amount has correlation of {}'.format(Age_Billing_Amount_corr))"
   ]
  },
  {
   "cell_type": "code",
   "execution_count": 49,
   "id": "bf4934be",
   "metadata": {},
   "outputs": [],
   "source": [
    "healthcare.head()"
   ]
  },
  {
   "cell_type": "code",
   "execution_count": 50,
   "id": "2ec4c699",
   "metadata": {},
   "outputs": [],
   "source": [
    "average_stay_hospital = (healthcare['Discharge Date'] - healthcare['Date of Admission']).dt.days.mean()\n",
    "print('Average Stay of patients in Hospital is {}.'.format(round(average_stay_hospital)))"
   ]
  },
  {
   "cell_type": "code",
   "execution_count": 51,
   "id": "6be7bdac",
   "metadata": {},
   "outputs": [],
   "source": [
    "healthcare.head()"
   ]
  },
  {
   "cell_type": "code",
   "execution_count": 52,
   "id": "142e0112",
   "metadata": {},
   "outputs": [],
   "source": [
    "avg_amt_paid_by_gender = round(healthcare[['Gender','Billing Amount']].groupby('Gender')[['Billing Amount']].mean(),2)\n",
    "avg_amt_paid_by_gender.rename(columns={'Billing Amount':'Average Billing amount'},inplace = True)\n",
    "avg_amt_paid_by_gender"
   ]
  },
  {
   "cell_type": "code",
   "execution_count": 53,
   "id": "b7e61ef0",
   "metadata": {},
   "outputs": [],
   "source": [
    "healthcare.head()"
   ]
  },
  {
   "cell_type": "code",
   "execution_count": 54,
   "id": "e726aa4d",
   "metadata": {},
   "outputs": [],
   "source": [
    "admission_type_trend = healthcare[['Admission Type','doa_year']].groupby(['Admission Type','doa_year'])[['Admission Type']].count()\n",
    "admission_type_trend.rename(columns={'Admission Type':'Counts'},inplace = True)\n",
    "admission_type_trend.reset_index(inplace = True)\n",
    "admission_type_trend"
   ]
  },
  {
   "cell_type": "code",
   "execution_count": 55,
   "id": "e2898314",
   "metadata": {},
   "outputs": [],
   "source": [
    "elective = admission_type_trend[admission_type_trend['Admission Type'] == 'Elective']\n",
    "\n",
    "emergency = admission_type_trend[admission_type_trend['Admission Type'] == 'Emergency']\n",
    "\n",
    "urgent = admission_type_trend[admission_type_trend['Admission Type'] == 'Urgent']\n",
    " "
   ]
  },
  {
   "cell_type": "code",
   "execution_count": 56,
   "id": "931e732b",
   "metadata": {},
   "outputs": [],
   "source": [
    "\n",
    "plt.figure(figsize=(10,3))\n",
    "plt.tight_layout()\n",
    "\n",
    "ax1 = plt.subplot(1,3,1)\n",
    "ax = sns.barplot(data = elective,x = 'doa_year', y = 'Counts', palette = 'afmhot')\n",
    "for bars in ax.containers:\n",
    "    ax.bar_label(ax.containers[0])\n",
    "plt.xlabel('Year')\n",
    "plt.ylabel('Counts')\n",
    "plt.title('Admission Type - Elective');\n",
    "\n",
    "ax2 = plt.subplot(1,3,2,sharey=ax1)\n",
    "ax = sns.barplot(data = emergency,x = 'doa_year', y = 'Counts', palette = 'afmhot')\n",
    "for bars in ax.containers:\n",
    "    ax.bar_label(ax.containers[0])\n",
    "plt.xlabel('Year')\n",
    "plt.ylabel('Counts')\n",
    "plt.title('Admission Type - Emergency');\n",
    "\n",
    "ax3 = plt.subplot(1,3,3,sharey =ax1)\n",
    "ax = sns.barplot(data = urgent,x = 'doa_year', y = 'Counts', palette = 'afmhot')\n",
    "for bars in ax.containers:\n",
    "    ax.bar_label(ax.containers[0])\n",
    "plt.xlabel('Year')\n",
    "plt.ylabel('Counts')\n",
    "plt.title('Admission Type - Urgent');"
   ]
  },
  {
   "cell_type": "code",
   "execution_count": 57,
   "id": "2b6c230c",
   "metadata": {},
   "outputs": [],
   "source": [
    "healthcare.head()"
   ]
  },
  {
   "cell_type": "code",
   "execution_count": 58,
   "id": "102f8430",
   "metadata": {},
   "outputs": [],
   "source": [
    "healthcare.groupby('Medical Condition')['Billing Amount'].describe()"
   ]
  },
  {
   "cell_type": "code",
   "execution_count": 59,
   "id": "0fcb95a7",
   "metadata": {},
   "outputs": [],
   "source": [
    "avg_billing_amt = round(healthcare.groupby('Medical Condition')[['Billing Amount']].mean().rename(\n",
    "    columns={'Billing Amount': 'Average Billing Amount'}).sort_values('Average Billing Amount',ascending = False).reset_index(),2)\n",
    "avg_billing_amt"
   ]
  },
  {
   "cell_type": "code",
   "execution_count": 60,
   "id": "52854a1a",
   "metadata": {},
   "outputs": [],
   "source": [
    "ax = sns.boxplot(data = healthcare, x = 'Medical Condition', y = 'Billing Amount',palette='YlGn_r');"
   ]
  },
  {
   "cell_type": "code",
   "execution_count": 61,
   "id": "937bac05",
   "metadata": {},
   "outputs": [],
   "source": [
    "healthcare.head()"
   ]
  },
  {
   "cell_type": "code",
   "execution_count": 62,
   "id": "472a4a0e",
   "metadata": {},
   "outputs": [],
   "source": [
    "medication_pattern = healthcare.pivot_table(index ='Medical Condition',columns = 'Medication',aggfunc='size')\n",
    "medication_pattern"
   ]
  },
  {
   "cell_type": "code",
   "execution_count": 63,
   "id": "ee481266",
   "metadata": {},
   "outputs": [],
   "source": [
    "sns.heatmap(medication_pattern, annot = True,fmt ='g' );"
   ]
  },
  {
   "cell_type": "code",
   "execution_count": 64,
   "id": "0c660094",
   "metadata": {},
   "outputs": [],
   "source": [
    "healthcare.head()"
   ]
  },
  {
   "cell_type": "code",
   "execution_count": 65,
   "id": "1378cdb5",
   "metadata": {},
   "outputs": [],
   "source": [
    "pd.DataFrame(healthcare['Test Results'].value_counts()).rename(columns = {'count':'Counts'})"
   ]
  },
  {
   "cell_type": "code",
   "execution_count": 66,
   "id": "a735b72f",
   "metadata": {},
   "outputs": [],
   "source": [
    "test_results_distribution = healthcare[['Test Results','Name']].groupby('Test Results')[['Name']].count().rename(columns={'Name':'Count'})\n",
    "test_results_distribution"
   ]
  },
  {
   "cell_type": "code",
   "execution_count": 67,
   "id": "83d6221b",
   "metadata": {},
   "outputs": [],
   "source": [
    "plt.figure(figsize = (6,4))\n",
    "plt.title('Test Results Distribution')\n",
    "plt.xlabel('Test Results')\n",
    "ax = sns.barplot(data = test_results_distribution, x = test_results_distribution.index,y = 'Count' ,palette = 'viridis');\n",
    "for bars in ax.containers:\n",
    "    ax.bar_label(bars)"
   ]
  },
  {
   "cell_type": "code",
   "execution_count": 68,
   "id": "0f818761",
   "metadata": {},
   "outputs": [],
   "source": [
    "healthcare.head()"
   ]
  },
  {
   "cell_type": "code",
   "execution_count": 69,
   "id": "08aad6b9",
   "metadata": {},
   "outputs": [],
   "source": [
    "healthcare['Days in Hospital'] = (healthcare['Discharge Date'] - healthcare['Date of Admission']).dt.days"
   ]
  },
  {
   "cell_type": "code",
   "execution_count": 70,
   "id": "2057c01a",
   "metadata": {},
   "outputs": [],
   "source": [
    "healthcare[['Days in Hospital','Medication']].groupby('Medication')[['Days in Hospital']].mean()"
   ]
  },
  {
   "cell_type": "code",
   "execution_count": 71,
   "id": "eaa902b5",
   "metadata": {},
   "outputs": [],
   "source": [
    "healthcare[['Days in Hospital','Medication']].groupby('Medication')[['Days in Hospital']].describe()"
   ]
  },
  {
   "cell_type": "code",
   "execution_count": 72,
   "id": "f0b56710",
   "metadata": {},
   "outputs": [],
   "source": [
    "plt.figure(figsize=(10,4))\n",
    "sns.boxplot(data = healthcare, x = 'Medication', y='Days in Hospital', palette = 'GnBu');"
   ]
  },
  {
   "cell_type": "code",
   "execution_count": 73,
   "id": "2ae93f5b",
   "metadata": {},
   "outputs": [],
   "source": [
    "healthcare.head()"
   ]
  },
  {
   "cell_type": "code",
   "execution_count": 74,
   "id": "e51295f2",
   "metadata": {},
   "outputs": [],
   "source": [
    "Insurance_Provider_avg_Billing_amt = round(healthcare[['Insurance Provider','Billing Amount']].groupby('Insurance Provider').mean(),2).rename(columns = {'Billing Amount':'Average Billing Amount'}).sort_values('Average Billing Amount',ascending = False)\n",
    "Insurance_Provider_avg_Billing_amt"
   ]
  },
  {
   "cell_type": "code",
   "execution_count": 75,
   "id": "99058ddf",
   "metadata": {},
   "outputs": [],
   "source": [
    "plt.figure(figsize=(6,4))\n",
    "plt.title('Average Billing Amount by Insurance Provider')\n",
    "sns.lineplot(data= Insurance_Provider_avg_Billing_amt,\n",
    "             x =Insurance_Provider_avg_Billing_amt.index,\n",
    "             y = 'Average Billing Amount');"
   ]
  },
  {
   "cell_type": "code",
   "execution_count": 76,
   "id": "f4ad262a",
   "metadata": {},
   "outputs": [],
   "source": [
    "healthcare.head()"
   ]
  },
  {
   "cell_type": "code",
   "execution_count": 77,
   "id": "abe15ebd",
   "metadata": {},
   "outputs": [],
   "source": [
    "seasonal_trend_2018 = healthcare[healthcare['doa_year']==2018]\n",
    "seasonal_trend_2018 = seasonal_trend_2018[['doa_month','Name']].groupby('doa_month')[['Name']].count().reset_index().rename(columns ={'Name':'Patient_count'})\n",
    "seasonal_trend_2018"
   ]
  },
  {
   "cell_type": "code",
   "execution_count": 78,
   "id": "b9965dfe",
   "metadata": {},
   "outputs": [],
   "source": [
    "seasonal_trend_2019 = healthcare[healthcare['doa_year']==2019]\n",
    "seasonal_trend_2019 = seasonal_trend_2019[['doa_month','Name']].groupby('doa_month')[['Name']].count().reset_index().rename(columns ={'Name':'Patient_count'})\n",
    "seasonal_trend_2019"
   ]
  },
  {
   "cell_type": "code",
   "execution_count": 79,
   "id": "8ff77e3b",
   "metadata": {},
   "outputs": [],
   "source": [
    "seasonal_trend_2020 = healthcare[healthcare['doa_year']==2020]\n",
    "seasonal_trend_2020 = seasonal_trend_2020[['doa_month','Name']].groupby('doa_month')[['Name']].count().reset_index().rename(columns ={'Name':'Patient_count'})\n",
    "seasonal_trend_2020"
   ]
  },
  {
   "cell_type": "code",
   "execution_count": 80,
   "id": "5ab524fb",
   "metadata": {},
   "outputs": [],
   "source": [
    "seasonal_trend_2021 = healthcare[healthcare['doa_year']==2021]\n",
    "seasonal_trend_2021 = seasonal_trend_2021[['doa_month','Name']].groupby('doa_month')[['Name']].count().reset_index().rename(columns ={'Name':'Patient_count'})"
   ]
  },
  {
   "cell_type": "code",
   "execution_count": 81,
   "id": "dba51ed6",
   "metadata": {},
   "outputs": [],
   "source": [
    "seasonal_trend_2022 = healthcare[healthcare['doa_year']==2022]\n",
    "seasonal_trend_2022 = seasonal_trend_2022[['doa_month','Name']].groupby('doa_month')[['Name']].count().reset_index().rename(columns ={'Name':'Patient_count'})"
   ]
  },
  {
   "cell_type": "code",
   "execution_count": 82,
   "id": "87ebc01d",
   "metadata": {},
   "outputs": [],
   "source": [
    "seasonal_trend_2023 = healthcare[healthcare['doa_year']==2023]\n",
    "seasonal_trend_2023 = seasonal_trend_2023[['doa_month','Name']].groupby('doa_month')[['Name']].count().reset_index().rename(columns ={'Name':'Patient_count'})"
   ]
  },
  {
   "cell_type": "code",
   "execution_count": 83,
   "id": "f181c18b",
   "metadata": {},
   "outputs": [],
   "source": [
    "plt.figure(figsize=(4,2))\n",
    "plt.title('Seasonal Trend of Year 2018')\n",
    "ax = sns.barplot(data= seasonal_trend_2018, x = 'doa_month',y = 'Patient_count',palette = 'gnuplot');\n",
    "for bars in ax.containers:\n",
    "    ax.bar_label(bars)\n",
    "plt.ylabel('Patiet Counts')\n",
    "plt.xlabel('Month');"
   ]
  },
  {
   "cell_type": "code",
   "execution_count": 84,
   "id": "95a34198",
   "metadata": {},
   "outputs": [],
   "source": [
    "plt.figure(figsize=(8,4))\n",
    "plt.title('Seasonal Trend of Year 2019')\n",
    "ax = sns.barplot(data= seasonal_trend_2019, x = 'doa_month',y = 'Patient_count',palette = 'gnuplot');\n",
    "for bars in ax.containers:\n",
    "    ax.bar_label(bars)\n",
    "plt.ylabel('Patiet Counts')\n",
    "plt.xlabel('Month');"
   ]
  },
  {
   "cell_type": "code",
   "execution_count": 85,
   "id": "c72cea6c",
   "metadata": {},
   "outputs": [],
   "source": [
    "plt.figure(figsize=(8,4))\n",
    "plt.title('Seasonal Trend of Year 2020')\n",
    "ax = sns.barplot(data= seasonal_trend_2020, x = 'doa_month',y = 'Patient_count',palette = 'gnuplot');\n",
    "for bars in ax.containers:\n",
    "    ax.bar_label(bars)\n",
    "plt.ylabel('Patiet Counts')\n",
    "plt.xlabel('Month');"
   ]
  },
  {
   "cell_type": "code",
   "execution_count": 86,
   "id": "9de86af6",
   "metadata": {},
   "outputs": [],
   "source": [
    "plt.figure(figsize=(8,4))\n",
    "plt.title('Seasonal Trend of Year 2021')\n",
    "ax = sns.barplot(data= seasonal_trend_2021, x = 'doa_month',y = 'Patient_count',palette = 'gnuplot');\n",
    "for bars in ax.containers:\n",
    "    ax.bar_label(bars)\n",
    "plt.ylabel('Patiet Counts')\n",
    "plt.xlabel('Month');"
   ]
  },
  {
   "cell_type": "code",
   "execution_count": 87,
   "id": "044f71ff",
   "metadata": {},
   "outputs": [],
   "source": [
    "plt.figure(figsize=(8,4))\n",
    "plt.title('Seasonal Trend of Year 2022')\n",
    "ax = sns.barplot(data= seasonal_trend_2022, x = 'doa_month',y = 'Patient_count',palette = 'gnuplot');\n",
    "for bars in ax.containers:\n",
    "    ax.bar_label(bars)\n",
    "plt.ylabel('Patiet Counts')\n",
    "plt.xlabel('Month');"
   ]
  },
  {
   "cell_type": "code",
   "execution_count": 88,
   "id": "322ed889",
   "metadata": {},
   "outputs": [],
   "source": [
    "plt.figure(figsize=(8,4))\n",
    "plt.title('Seasonal Trend of Year 2023')\n",
    "ax = sns.barplot(data= seasonal_trend_2023, x = 'doa_month',y = 'Patient_count',palette = 'gnuplot');\n",
    "for bars in ax.containers:\n",
    "    ax.bar_label(bars)\n",
    "plt.ylabel('Patiet Counts')\n",
    "plt.xlabel('Month');"
   ]
  },
  {
   "cell_type": "code",
   "execution_count": 89,
   "id": "dd23886c",
   "metadata": {},
   "outputs": [],
   "source": [
    "plt.figure(figsize=(15,10))\n",
    "\n",
    "\n",
    "plt.subplot(2,3,1)\n",
    "plt.title('Seasonal Trend of Year 2018')\n",
    "ax = sns.barplot(data= seasonal_trend_2018, x = 'doa_month',y = 'Patient_count',palette = 'gnuplot');\n",
    "for bars in ax.containers:\n",
    "    ax.bar_label(bars)\n",
    "plt.ylabel('Patiet Counts')\n",
    "plt.xlabel('Month')\n",
    "\n",
    "plt.subplot(2,3,2)\n",
    "plt.title('Seasonal Trend of Year 2019')\n",
    "ax = sns.barplot(data= seasonal_trend_2019, x = 'doa_month',y = 'Patient_count',palette = 'gnuplot');\n",
    "for bars in ax.containers:\n",
    "    ax.bar_label(bars)\n",
    "plt.ylabel('Patiet Counts')\n",
    "plt.xlabel('Month')\n",
    "\n",
    "plt.subplot(2,3,3)\n",
    "plt.title('Seasonal Trend of Year 2020')\n",
    "ax = sns.barplot(data= seasonal_trend_2020, x = 'doa_month',y = 'Patient_count',palette = 'gnuplot');\n",
    "for bars in ax.containers:\n",
    "    ax.bar_label(bars)\n",
    "plt.ylabel('Patiet Counts')\n",
    "plt.xlabel('Month')\n",
    "\n",
    "plt.subplot(2,3,4)\n",
    "plt.title('Seasonal Trend of Year 2021')\n",
    "ax = sns.barplot(data= seasonal_trend_2021, x = 'doa_month',y = 'Patient_count',palette = 'gnuplot');\n",
    "for bars in ax.containers:\n",
    "    ax.bar_label(bars)\n",
    "plt.ylabel('Patiet Counts')\n",
    "plt.xlabel('Month')\n",
    "\n",
    "plt.subplot(2,3,5)\n",
    "plt.title('Seasonal Trend of Year 2022')\n",
    "ax = sns.barplot(data= seasonal_trend_2022, x = 'doa_month',y = 'Patient_count',palette = 'gnuplot');\n",
    "for bars in ax.containers:\n",
    "    ax.bar_label(bars)\n",
    "plt.ylabel('Patiet Counts')\n",
    "plt.xlabel('Month')\n",
    "\n",
    "plt.subplot(2,3,6)\n",
    "plt.title('Seasonal Trend of Year 2023')\n",
    "ax = sns.barplot(data= seasonal_trend_2023, x = 'doa_month',y = 'Patient_count',palette = 'gnuplot');\n",
    "for bars in ax.containers:\n",
    "    ax.bar_label(bars)\n",
    "plt.ylabel('Patiet Counts')\n",
    "plt.xlabel('Month');"
   ]
  },
  {
   "cell_type": "code",
   "execution_count": 90,
   "id": "e7386edf",
   "metadata": {},
   "outputs": [],
   "source": [
    "healthcare.head()"
   ]
  },
  {
   "cell_type": "code",
   "execution_count": 91,
   "id": "cc17386f",
   "metadata": {},
   "outputs": [],
   "source": [
    "avg_days_in_hospital = round(healthcare[['Medical Condition','Days in Hospital']].groupby('Medical Condition')[['Days in Hospital']].mean()).rename(\n",
    "columns = {'Days in Hospital':'Average Count of Days'})\n",
    "avg_days_in_hospital.reset_index()"
   ]
  },
  {
   "cell_type": "code",
   "execution_count": 92,
   "id": "969cbd38",
   "metadata": {},
   "outputs": [],
   "source": [
    "healthcare.head()"
   ]
  },
  {
   "cell_type": "code",
   "execution_count": 93,
   "id": "85c2ca7b",
   "metadata": {},
   "outputs": [],
   "source": [
    " (( healthcare['Billing Amount'] - healthcare['Billing Amount'].mean() )/healthcare['Billing Amount'].std()).abs()\n",
    "healthcare['zscore_Billing_Amount'] = (( healthcare['Billing Amount'] - healthcare['Billing Amount'].mean() )/healthcare['Billing Amount'].std()).abs()\n",
    "healthcare.head()"
   ]
  },
  {
   "cell_type": "code",
   "execution_count": 94,
   "id": "782aafed",
   "metadata": {},
   "outputs": [],
   "source": [
    "threshold_limit = 3\n",
    "healthcare[healthcare['zscore_Billing_Amount'] > threshold_limit]"
   ]
  }
 ],
 "metadata": {},
 "nbformat": 4,
 "nbformat_minor": 5
}

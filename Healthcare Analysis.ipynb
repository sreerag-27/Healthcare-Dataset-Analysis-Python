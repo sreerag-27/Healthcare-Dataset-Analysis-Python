{
 "cells": [
  {
   "cell_type": "code",
   "execution_count": 1,
   "id": "b5d3feb6",
   "metadata": {},
   "outputs": [],
   "source": [
    "# Importing Library \n",
    "import pandas as pd\n",
    "import numpy as np\n",
    "import matplotlib.pyplot as plt\n",
    "import seaborn as sns\n",
    "sns.set_style('darkgrid')\n",
    "\n",
    "# Showing max columns and rows\n",
    "pd.set_option(\"display.max_columns\",None)\n",
    "pd.set_option('display.max_rows',None)\n",
    "pd.option_context('mode.use_inf_as_na', True)\n",
    "\n",
    "# Ignore warnings\n",
    "import warnings\n",
    "warnings.filterwarnings('ignore')"
   ]
  },
  {
   "cell_type": "code",
   "execution_count": 2,
   "id": "eb111a8f",
   "metadata": {},
   "outputs": [],
   "source": [
    "# Importing Dataset\n",
    "healthcare = pd.read_csv('E:\\Project for Resume\\Python Healthcare Analysis Project\\Healthcare Dataset\\healthcare_dataset.csv')\n",
    "healthcare.head()"
   ]
  },
  {
   "cell_type": "code",
   "execution_count": 3,
   "id": "9f4bb04d",
   "metadata": {},
   "outputs": [],
   "source": [
    "# Checking for null values\n",
    "healthcare.isnull().sum()"
   ]
  },
  {
   "cell_type": "code",
   "execution_count": 4,
   "id": "e28d3509",
   "metadata": {},
   "outputs": [],
   "source": [
    "# checking for Blank Values\n",
    "healthcare.isna().sum()"
   ]
  },
  {
   "cell_type": "code",
   "execution_count": 5,
   "id": "c1c96220",
   "metadata": {},
   "outputs": [],
   "source": [
    "healthcare.duplicated().sum()"
   ]
  },
  {
   "cell_type": "code",
   "execution_count": 6,
   "id": "39258823",
   "metadata": {},
   "outputs": [],
   "source": [
    "healthcare.head()"
   ]
  },
  {
   "cell_type": "code",
   "execution_count": 7,
   "id": "50dc3883",
   "metadata": {},
   "outputs": [],
   "source": [
    "healthcare.columns"
   ]
  },
  {
   "cell_type": "code",
   "execution_count": 8,
   "id": "72dbc08f",
   "metadata": {},
   "outputs": [],
   "source": [
    "healthcare.info()"
   ]
  },
  {
   "cell_type": "code",
   "execution_count": 9,
   "id": "a0505272",
   "metadata": {},
   "outputs": [],
   "source": [
    "healthcare['Date of Admission'] = pd.to_datetime(healthcare['Date of Admission'],format = '%Y-%m-%d')\n",
    "healthcare.info()"
   ]
  },
  {
   "cell_type": "code",
   "execution_count": 10,
   "id": "447ad6e1",
   "metadata": {},
   "outputs": [],
   "source": [
    "healthcare['Discharge Date'] = pd.to_datetime(healthcare['Discharge Date'])\n",
    "healthcare['Discharge Date'].info()"
   ]
  },
  {
   "cell_type": "code",
   "execution_count": 11,
   "id": "df22b1eb",
   "metadata": {},
   "outputs": [],
   "source": [
    "healthcare['Billing Amount']=round(healthcare[['Billing Amount']],2)\n",
    "healthcare.head()"
   ]
  },
  {
   "cell_type": "code",
   "execution_count": 12,
   "id": "7864eaea",
   "metadata": {},
   "outputs": [],
   "source": [
    "healthcare.describe()"
   ]
  },
  {
   "cell_type": "code",
   "execution_count": 13,
   "id": "2f3838c6",
   "metadata": {},
   "outputs": [],
   "source": [
    "healthcare['Age'].mean()\n",
    "print('The Average age of overall pateints is {}.'.format(round(healthcare['Age'].mean(),2)))"
   ]
  },
  {
   "cell_type": "code",
   "execution_count": 14,
   "id": "54c59ab2",
   "metadata": {},
   "outputs": [],
   "source": [
    "avg_age_by_gender = round(healthcare[['Gender','Age']].groupby('Gender')[['Age']].mean(),2)\n",
    "avg_age_by_gender"
   ]
  },
  {
   "cell_type": "code",
   "execution_count": 15,
   "id": "ec7346fc",
   "metadata": {},
   "outputs": [],
   "source": [
    "healthcare.head()"
   ]
  },
  {
   "cell_type": "code",
   "execution_count": 16,
   "id": "de2833ba",
   "metadata": {},
   "outputs": [],
   "source": [
    "male_female_patients =  healthcare[['Gender']].value_counts()\n",
    "male_female_patients"
   ]
  },
  {
   "cell_type": "code",
   "execution_count": 17,
   "id": "9b56ba02",
   "metadata": {},
   "outputs": [],
   "source": [
    "healthcare.head()"
   ]
  },
  {
   "cell_type": "code",
   "execution_count": 18,
   "id": "d7842443",
   "metadata": {},
   "outputs": [],
   "source": [
    "healthcare['Blood Type'].unique()\n",
    "print('Different Blood Types are {}.'.format(healthcare['Blood Type'].unique()))"
   ]
  },
  {
   "cell_type": "code",
   "execution_count": 19,
   "id": "23e43e23",
   "metadata": {},
   "outputs": [],
   "source": [
    "healthcare[['Hospital']].nunique()"
   ]
  },
  {
   "cell_type": "code",
   "execution_count": 20,
   "id": "7ef50653",
   "metadata": {},
   "outputs": [],
   "source": [
    "# there are 8639 Hospitals , but top 20 hospitals with count of patients are  \n",
    "healthcare[['Hospital','Name']].groupby('Hospital')[['Name']].count().rename(\n",
    "    columns = {'Name':'Patient Count'}).sort_values('Patient Count',ascending = False).reset_index()"
   ]
  },
  {
   "cell_type": "code",
   "execution_count": 21,
   "id": "fbd1e80a",
   "metadata": {},
   "outputs": [],
   "source": [
    "healthcare.head()"
   ]
  },
  {
   "cell_type": "code",
   "execution_count": 22,
   "id": "6d0b3d4e",
   "metadata": {},
   "outputs": [],
   "source": [
    "common_medical_patients = healthcare.groupby('Medical Condition')[['Medical Condition']].count()\n",
    "common_medical_patients"
   ]
  },
  {
   "cell_type": "code",
   "execution_count": 23,
   "id": "b51daedb",
   "metadata": {},
   "outputs": [],
   "source": [
    "plt.figure(figsize =(12,4))\n",
    "ax= sns.countplot(data= healthcare, \n",
    "                  x = 'Medical Condition',\n",
    "                  palette = 'GnBu_r',\n",
    "                  order = healthcare['Medical Condition'].value_counts().index)\n",
    "for bars in ax.containers:\n",
    "    ax.bar_label(ax.containers[0])"
   ]
  },
  {
   "cell_type": "code",
   "execution_count": 24,
   "id": "1dab3509",
   "metadata": {},
   "outputs": [],
   "source": [
    "healthcare.head()"
   ]
  },
  {
   "cell_type": "code",
   "execution_count": 25,
   "id": "6802f682",
   "metadata": {},
   "outputs": [],
   "source": [
    "healthcare['Insurance Provider'].unique()"
   ]
  },
  {
   "cell_type": "code",
   "execution_count": 26,
   "id": "4464e8a8",
   "metadata": {},
   "outputs": [],
   "source": [
    "healthcare['Insurance Provider'].value_counts()"
   ]
  },
  {
   "cell_type": "code",
   "execution_count": 27,
   "id": "c5974d82",
   "metadata": {},
   "outputs": [],
   "source": [
    "plt.figure(figsize =(12,4))\n",
    "ax = sns.countplot(data = healthcare,\n",
    "                   x='Insurance Provider',\n",
    "                   palette = 'Purples',\n",
    "                  order = healthcare['Insurance Provider'].value_counts().index)\n",
    "for bars in ax.containers:\n",
    "    ax.bar_label(ax.containers[0]);"
   ]
  },
  {
   "cell_type": "code",
   "execution_count": 28,
   "id": "27f79cb2",
   "metadata": {},
   "outputs": [],
   "source": [
    "healthcare.head()"
   ]
  },
  {
   "cell_type": "code",
   "execution_count": 29,
   "id": "b9af8da5",
   "metadata": {},
   "outputs": [],
   "source": [
    "avg_billing_amt = round(healthcare[['Admission Type','Billing Amount']].groupby('Admission Type').mean(),2)\n",
    "avg_billing_amt.rename(columns={'Billing Amount':'Average Billing Amount'},inplace = True)\n",
    "avg_billing_amt = avg_billing_amt.sort_values('Average Billing Amount',ascending = False)\n",
    "avg_billing_amt"
   ]
  },
  {
   "cell_type": "code",
   "execution_count": 30,
   "id": "c9b814b5",
   "metadata": {},
   "outputs": [],
   "source": [
    "plt.figure(figsize =(6,3))\n",
    "\n",
    "ax = sns.barplot(data = avg_billing_amt , \n",
    "                 x = avg_billing_amt.index,\n",
    "                 y = 'Average Billing Amount',\n",
    "                 palette = 'gist_earth_r' )\n",
    "for bars in ax.containers:\n",
    "    ax.bar_label(bars)"
   ]
  },
  {
   "cell_type": "code",
   "execution_count": 31,
   "id": "b107cf3f",
   "metadata": {},
   "outputs": [],
   "source": [
    "healthcare.head()"
   ]
  },
  {
   "cell_type": "code",
   "execution_count": 32,
   "id": "00204f25",
   "metadata": {},
   "outputs": [],
   "source": [
    "distribution = pd.DataFrame(healthcare[['Name','Room Number']].value_counts() )\n",
    "distribution"
   ]
  },
  {
   "cell_type": "code",
   "execution_count": 33,
   "id": "06b92c7f",
   "metadata": {},
   "outputs": [],
   "source": [
    "distribution[distribution['count']>=2]"
   ]
  },
  {
   "cell_type": "code",
   "execution_count": 34,
   "id": "b232eeb3",
   "metadata": {},
   "outputs": [],
   "source": [
    "healthcare.head()"
   ]
  },
  {
   "cell_type": "code",
   "execution_count": 35,
   "id": "10f2f8e1",
   "metadata": {},
   "outputs": [],
   "source": [
    "doctor = pd.DataFrame(healthcare[['Doctor','Name']].groupby('Doctor')['Name'].count())\n",
    "doctor.rename(columns={'Name':'Counts'},inplace= True)\n",
    "doctor = doctor[doctor['Counts']>=2].sort_values('Counts',ascending = False)\n",
    "doctor"
   ]
  },
  {
   "cell_type": "code",
   "execution_count": 36,
   "id": "74132436",
   "metadata": {},
   "outputs": [],
   "source": [
    "doctor[(doctor['Counts']>=2) & (doctor['Counts']<=7)]"
   ]
  },
  {
   "cell_type": "code",
   "execution_count": 37,
   "id": "e9923222",
   "metadata": {},
   "outputs": [],
   "source": [
    "healthcare.info()"
   ]
  },
  {
   "cell_type": "code",
   "execution_count": 38,
   "id": "44092b5a",
   "metadata": {},
   "outputs": [],
   "source": [
    "healthcare['doa_month'] = healthcare['Date of Admission'].dt.month\n",
    "healthcare['doa_year'] = healthcare['Date of Admission'].dt.year\n",
    "healthcare.info()"
   ]
  },
  {
   "cell_type": "code",
   "execution_count": 39,
   "id": "d1787447",
   "metadata": {},
   "outputs": [],
   "source": [
    "admission_by_year = healthcare[['Date of Admission','doa_year']].groupby(['doa_year']).count()\n",
    "admission_by_year"
   ]
  },
  {
   "cell_type": "code",
   "execution_count": 40,
   "id": "138a8bf9",
   "metadata": {},
   "outputs": [],
   "source": [
    "plt.figure(figsize=(10,4))\n",
    "sns.lineplot(data = admission_by_year,y='Date of Admission',x='doa_year')\n",
    "plt.xlabel('Year');"
   ]
  },
  {
   "cell_type": "code",
   "execution_count": 41,
   "id": "f497616a",
   "metadata": {},
   "outputs": [],
   "source": [
    "year = healthcare[['Date of Admission','doa_year','doa_month']].groupby(['doa_year','doa_month']).count()\n",
    "year.reset_index(inplace = True)\n",
    "year.rename(columns={'Date of Admission': 'Counts'},inplace = True)\n",
    "year"
   ]
  },
  {
   "cell_type": "code",
   "execution_count": 42,
   "id": "31f9016e",
   "metadata": {},
   "outputs": [],
   "source": [
    "year_2018 = year[year['doa_year'] == 2018]\n",
    "\n",
    "year_2019 = year[year['doa_year'] == 2019]\n",
    "\n",
    "year_2020 = year[year['doa_year'] == 2020]\n",
    "\n",
    "year_2021 = year[year['doa_year'] == 2021]\n",
    "\n",
    "year_2022 = year[year['doa_year'] == 2022]\n",
    "\n",
    "year_2023 = year[year['doa_year'] == 2023]"
   ]
  },
  {
   "cell_type": "code",
   "execution_count": 43,
   "id": "1d78d9ec",
   "metadata": {},
   "outputs": [],
   "source": [
    "# creating subplots\n",
    "plt.figure(figsize=(12,15))\n",
    "\n",
    "plt.subplot(3,3,1)\n",
    "plt.xlabel('Months')\n",
    "plt.ylabel('Counts')\n",
    "plt.title('Year 2018')\n",
    "sns.lineplot(data = year_2018,x='doa_month', y='Counts');\n",
    "\n",
    "plt.subplot(3,3,2)\n",
    "plt.xlabel('Months')\n",
    "plt.ylabel('Counts')\n",
    "plt.title('Year 2019')\n",
    "sns.lineplot(data = year_2019,x='doa_month', y='Counts');\n",
    "\n",
    "plt.subplot(3,3,3)\n",
    "plt.xlabel('Months')\n",
    "plt.ylabel('Counts')\n",
    "plt.title('Year 2020')\n",
    "sns.lineplot(data = year_2020,x='doa_month', y='Counts');\n",
    "\n",
    "plt.subplot(3,3,4)\n",
    "plt.xlabel('Months')\n",
    "plt.ylabel('Counts')\n",
    "plt.title('Year 2021')\n",
    "sns.lineplot(data = year_2021,x='doa_month', y='Counts');\n",
    "\n",
    "plt.subplot(3,3,5)\n",
    "plt.xlabel('Months')\n",
    "plt.ylabel('Counts')\n",
    "plt.title('Year 2022')\n",
    "sns.lineplot(data = year_2022,x='doa_month', y='Counts');\n",
    "\n",
    "plt.subplot(3,3,6)\n",
    "plt.xlabel('Months')\n",
    "plt.ylabel('Counts')\n",
    "plt.title('Year 2023')\n",
    "sns.lineplot(data = year_2023,x='doa_month', y='Counts');"
   ]
  },
  {
   "cell_type": "code",
   "execution_count": 44,
   "id": "b52cc276",
   "metadata": {},
   "outputs": [],
   "source": [
    "healthcare.head()"
   ]
  },
  {
   "cell_type": "code",
   "execution_count": 45,
   "id": "eb87ac33",
   "metadata": {},
   "outputs": [],
   "source": [
    "healthcare.info()"
   ]
  },
  {
   "cell_type": "code",
   "execution_count": 46,
   "id": "646a1e33",
   "metadata": {},
   "outputs": [],
   "source": [
    "Age_Billing_Amount_corr = healthcare['Age'].corr(healthcare['Billing Amount'])\n",
    "print('Patients Age And Billing Amount has correlation of {}'.format(Age_Billing_Amount_corr))"
   ]
  },
  {
   "cell_type": "code",
   "execution_count": 47,
   "id": "d3b4e4e8",
   "metadata": {},
   "outputs": [],
   "source": [
    "healthcare.head()"
   ]
  },
  {
   "cell_type": "code",
   "execution_count": 48,
   "id": "9e821337",
   "metadata": {},
   "outputs": [],
   "source": [
    "average_stay_hospital = (healthcare['Discharge Date'] - healthcare['Date of Admission']).dt.days.mean()\n",
    "print('Average Stay of patients in Hospital is {}.'.format(round(average_stay_hospital)))"
   ]
  },
  {
   "cell_type": "code",
   "execution_count": 49,
   "id": "98a6e53b",
   "metadata": {},
   "outputs": [],
   "source": [
    "healthcare.head()"
   ]
  },
  {
   "cell_type": "code",
   "execution_count": 50,
   "id": "6ea60f71",
   "metadata": {},
   "outputs": [],
   "source": [
    "avg_amt_paid_by_gender = round(healthcare[['Gender','Billing Amount']].groupby('Gender')[['Billing Amount']].mean(),2)\n",
    "avg_amt_paid_by_gender.rename(columns={'Billing Amount':'Average Billing amount'},inplace = True)\n",
    "avg_amt_paid_by_gender"
   ]
  },
  {
   "cell_type": "code",
   "execution_count": 51,
   "id": "85d0d7a5",
   "metadata": {},
   "outputs": [],
   "source": [
    "healthcare.head()"
   ]
  },
  {
   "cell_type": "code",
   "execution_count": 52,
   "id": "80c70da7",
   "metadata": {},
   "outputs": [],
   "source": [
    "admission_type_trend = healthcare[['Admission Type','doa_year']].groupby(['Admission Type','doa_year'])[['Admission Type']].count()\n",
    "admission_type_trend.rename(columns={'Admission Type':'Counts'},inplace = True)\n",
    "admission_type_trend.reset_index(inplace = True)\n",
    "admission_type_trend"
   ]
  },
  {
   "cell_type": "code",
   "execution_count": 53,
   "id": "98fb03c2",
   "metadata": {},
   "outputs": [],
   "source": [
    "elective = admission_type_trend[admission_type_trend['Admission Type'] == 'Elective']\n",
    "\n",
    "emergency = admission_type_trend[admission_type_trend['Admission Type'] == 'Emergency']\n",
    "\n",
    "urgent = admission_type_trend[admission_type_trend['Admission Type'] == 'Urgent']\n",
    " "
   ]
  },
  {
   "cell_type": "code",
   "execution_count": 54,
   "id": "562736c4",
   "metadata": {},
   "outputs": [],
   "source": [
    "\n",
    "plt.figure(figsize=(10,3))\n",
    "plt.tight_layout()\n",
    "\n",
    "ax1 = plt.subplot(1,3,1)\n",
    "ax = sns.barplot(data = elective,x = 'doa_year', y = 'Counts', palette = 'afmhot')\n",
    "for bars in ax.containers:\n",
    "    ax.bar_label(ax.containers[0])\n",
    "plt.xlabel('Year')\n",
    "plt.ylabel('Counts')\n",
    "plt.title('Admission Type - Elective');\n",
    "\n",
    "ax2 = plt.subplot(1,3,2,sharey=ax1)\n",
    "ax = sns.barplot(data = emergency,x = 'doa_year', y = 'Counts', palette = 'afmhot')\n",
    "for bars in ax.containers:\n",
    "    ax.bar_label(ax.containers[0])\n",
    "plt.xlabel('Year')\n",
    "plt.ylabel('Counts')\n",
    "plt.title('Admission Type - Emergency');\n",
    "\n",
    "ax3 = plt.subplot(1,3,3,sharey =ax1)\n",
    "ax = sns.barplot(data = urgent,x = 'doa_year', y = 'Counts', palette = 'afmhot')\n",
    "for bars in ax.containers:\n",
    "    ax.bar_label(ax.containers[0])\n",
    "plt.xlabel('Year')\n",
    "plt.ylabel('Counts')\n",
    "plt.title('Admission Type - Urgent');"
   ]
  },
  {
   "cell_type": "code",
   "execution_count": 55,
   "id": "e4efd2cf",
   "metadata": {},
   "outputs": [],
   "source": [
    "healthcare.head()"
   ]
  },
  {
   "cell_type": "code",
   "execution_count": 56,
   "id": "5ccade56",
   "metadata": {},
   "outputs": [],
   "source": [
    "healthcare.groupby('Medical Condition')['Billing Amount'].describe()"
   ]
  },
  {
   "cell_type": "code",
   "execution_count": 57,
   "id": "e1688a27",
   "metadata": {},
   "outputs": [],
   "source": [
    "avg_billing_amt = round(healthcare.groupby('Medical Condition')[['Billing Amount']].mean().rename(\n",
    "    columns={'Billing Amount': 'Average Billing Amount'}).sort_values('Average Billing Amount',ascending = False).reset_index(),2)\n",
    "avg_billing_amt"
   ]
  },
  {
   "cell_type": "code",
   "execution_count": 58,
   "id": "0808ca02",
   "metadata": {},
   "outputs": [],
   "source": [
    "ax = sns.boxplot(data = healthcare, x = 'Medical Condition', y = 'Billing Amount',palette='YlGn_r');"
   ]
  },
  {
   "cell_type": "code",
   "execution_count": 59,
   "id": "3d869d59",
   "metadata": {},
   "outputs": [],
   "source": [
    "healthcare.head()"
   ]
  },
  {
   "cell_type": "code",
   "execution_count": 60,
   "id": "2970da2f",
   "metadata": {},
   "outputs": [],
   "source": [
    "medication_pattern = healthcare.pivot_table(index ='Medical Condition',columns = 'Medication',aggfunc='size')\n",
    "medication_pattern"
   ]
  },
  {
   "cell_type": "code",
   "execution_count": 61,
   "id": "f6e310eb",
   "metadata": {},
   "outputs": [],
   "source": [
    "sns.heatmap(medication_pattern, annot = True,fmt ='g' );"
   ]
  },
  {
   "cell_type": "code",
   "execution_count": 62,
   "id": "f91455fc",
   "metadata": {},
   "outputs": [],
   "source": [
    "healthcare.head()"
   ]
  },
  {
   "cell_type": "code",
   "execution_count": 63,
   "id": "fc016acb",
   "metadata": {},
   "outputs": [],
   "source": [
    "pd.DataFrame(healthcare['Test Results'].value_counts()).rename(columns = {'count':'Counts'})"
   ]
  },
  {
   "cell_type": "code",
   "execution_count": 64,
   "id": "6a86d277",
   "metadata": {},
   "outputs": [],
   "source": [
    "test_results_distribution = healthcare[['Test Results','Name']].groupby('Test Results')[['Name']].count().rename(columns={'Name':'Count'})\n",
    "test_results_distribution"
   ]
  },
  {
   "cell_type": "code",
   "execution_count": 65,
   "id": "001e3b08",
   "metadata": {},
   "outputs": [],
   "source": [
    "plt.figure(figsize = (6,4))\n",
    "plt.title('Test Results Distribution')\n",
    "plt.xlabel('Test Results')\n",
    "ax = sns.barplot(data = test_results_distribution, x = test_results_distribution.index,y = 'Count' ,palette = 'viridis');\n",
    "for bars in ax.containers:\n",
    "    ax.bar_label(bars)"
   ]
  },
  {
   "cell_type": "code",
   "execution_count": 66,
   "id": "00985b3e",
   "metadata": {},
   "outputs": [],
   "source": [
    "healthcare.head()"
   ]
  },
  {
   "cell_type": "code",
   "execution_count": 67,
   "id": "ec17e20e",
   "metadata": {},
   "outputs": [],
   "source": [
    "healthcare['Days in Hospital'] = (healthcare['Discharge Date'] - healthcare['Date of Admission']).dt.days"
   ]
  },
  {
   "cell_type": "code",
   "execution_count": 68,
   "id": "bc8acfdf",
   "metadata": {},
   "outputs": [],
   "source": [
    "healthcare[['Days in Hospital','Medication']].groupby('Medication')[['Days in Hospital']].mean()"
   ]
  },
  {
   "cell_type": "code",
   "execution_count": 69,
   "id": "224d5fb2",
   "metadata": {},
   "outputs": [],
   "source": [
    "healthcare[['Days in Hospital','Medication']].groupby('Medication')[['Days in Hospital']].describe()"
   ]
  },
  {
   "cell_type": "code",
   "execution_count": 70,
   "id": "131af1f2",
   "metadata": {},
   "outputs": [],
   "source": [
    "plt.figure(figsize=(10,4))\n",
    "sns.boxplot(data = healthcare, x = 'Medication', y='Days in Hospital', palette = 'GnBu');"
   ]
  },
  {
   "cell_type": "code",
   "execution_count": 71,
   "id": "d2762d50",
   "metadata": {},
   "outputs": [],
   "source": [
    "healthcare.head()"
   ]
  },
  {
   "cell_type": "code",
   "execution_count": 72,
   "id": "a93b581b",
   "metadata": {},
   "outputs": [],
   "source": [
    "Insurance_Provider_avg_Billing_amt = round(healthcare[['Insurance Provider','Billing Amount']].groupby('Insurance Provider').mean(),2).rename(columns = {'Billing Amount':'Average Billing Amount'}).sort_values('Average Billing Amount',ascending = False)\n",
    "Insurance_Provider_avg_Billing_amt"
   ]
  },
  {
   "cell_type": "code",
   "execution_count": 73,
   "id": "e207f474",
   "metadata": {},
   "outputs": [],
   "source": [
    "plt.figure(figsize=(6,4))\n",
    "plt.title('Average Billing Amount by Insurance Provider')\n",
    "sns.lineplot(data= Insurance_Provider_avg_Billing_amt,\n",
    "             x =Insurance_Provider_avg_Billing_amt.index,\n",
    "             y = 'Average Billing Amount');"
   ]
  },
  {
   "cell_type": "code",
   "execution_count": 74,
   "id": "562efdd7",
   "metadata": {},
   "outputs": [],
   "source": [
    "healthcare.head()"
   ]
  },
  {
   "cell_type": "code",
   "execution_count": 75,
   "id": "31e5b4cb",
   "metadata": {},
   "outputs": [],
   "source": [
    "seasonal_trend_2018 = healthcare[healthcare['doa_year']==2018]\n",
    "seasonal_trend_2018 = seasonal_trend_2018[['doa_month','Name']].groupby('doa_month')[['Name']].count().reset_index().rename(columns ={'Name':'Patient_count'})\n",
    "seasonal_trend_2018"
   ]
  },
  {
   "cell_type": "code",
   "execution_count": 76,
   "id": "b54f7ca6",
   "metadata": {},
   "outputs": [],
   "source": [
    "seasonal_trend_2019 = healthcare[healthcare['doa_year']==2019]\n",
    "seasonal_trend_2019 = seasonal_trend_2019[['doa_month','Name']].groupby('doa_month')[['Name']].count().reset_index().rename(columns ={'Name':'Patient_count'})\n",
    "seasonal_trend_2019"
   ]
  },
  {
   "cell_type": "code",
   "execution_count": 77,
   "id": "1e7fdf05",
   "metadata": {},
   "outputs": [],
   "source": [
    "seasonal_trend_2020 = healthcare[healthcare['doa_year']==2020]\n",
    "seasonal_trend_2020 = seasonal_trend_2020[['doa_month','Name']].groupby('doa_month')[['Name']].count().reset_index().rename(columns ={'Name':'Patient_count'})\n",
    "seasonal_trend_2020"
   ]
  },
  {
   "cell_type": "code",
   "execution_count": 78,
   "id": "c059a550",
   "metadata": {},
   "outputs": [],
   "source": [
    "seasonal_trend_2021 = healthcare[healthcare['doa_year']==2021]\n",
    "seasonal_trend_2021 = seasonal_trend_2021[['doa_month','Name']].groupby('doa_month')[['Name']].count().reset_index().rename(columns ={'Name':'Patient_count'})"
   ]
  },
  {
   "cell_type": "code",
   "execution_count": 79,
   "id": "35c0fb7c",
   "metadata": {},
   "outputs": [],
   "source": [
    "seasonal_trend_2022 = healthcare[healthcare['doa_year']==2022]\n",
    "seasonal_trend_2022 = seasonal_trend_2022[['doa_month','Name']].groupby('doa_month')[['Name']].count().reset_index().rename(columns ={'Name':'Patient_count'})"
   ]
  },
  {
   "cell_type": "code",
   "execution_count": 80,
   "id": "a88d8de1",
   "metadata": {},
   "outputs": [],
   "source": [
    "seasonal_trend_2023 = healthcare[healthcare['doa_year']==2023]\n",
    "seasonal_trend_2023 = seasonal_trend_2023[['doa_month','Name']].groupby('doa_month')[['Name']].count().reset_index().rename(columns ={'Name':'Patient_count'})"
   ]
  },
  {
   "cell_type": "code",
   "execution_count": 81,
   "id": "52c91e57",
   "metadata": {},
   "outputs": [],
   "source": [
    "plt.figure(figsize=(4,2))\n",
    "plt.title('Seasonal Trend of Year 2018')\n",
    "ax = sns.barplot(data= seasonal_trend_2018, x = 'doa_month',y = 'Patient_count',palette = 'gnuplot');\n",
    "for bars in ax.containers:\n",
    "    ax.bar_label(bars)\n",
    "plt.ylabel('Patiet Counts')\n",
    "plt.xlabel('Month');"
   ]
  },
  {
   "cell_type": "code",
   "execution_count": 82,
   "id": "a7923cbe",
   "metadata": {},
   "outputs": [],
   "source": [
    "plt.figure(figsize=(8,4))\n",
    "plt.title('Seasonal Trend of Year 2019')\n",
    "ax = sns.barplot(data= seasonal_trend_2019, x = 'doa_month',y = 'Patient_count',palette = 'gnuplot');\n",
    "for bars in ax.containers:\n",
    "    ax.bar_label(bars)\n",
    "plt.ylabel('Patiet Counts')\n",
    "plt.xlabel('Month');"
   ]
  },
  {
   "cell_type": "code",
   "execution_count": 83,
   "id": "38d7b65f",
   "metadata": {},
   "outputs": [],
   "source": [
    "plt.figure(figsize=(8,4))\n",
    "plt.title('Seasonal Trend of Year 2020')\n",
    "ax = sns.barplot(data= seasonal_trend_2020, x = 'doa_month',y = 'Patient_count',palette = 'gnuplot');\n",
    "for bars in ax.containers:\n",
    "    ax.bar_label(bars)\n",
    "plt.ylabel('Patiet Counts')\n",
    "plt.xlabel('Month');"
   ]
  },
  {
   "cell_type": "code",
   "execution_count": 84,
   "id": "a2375436",
   "metadata": {},
   "outputs": [],
   "source": [
    "plt.figure(figsize=(8,4))\n",
    "plt.title('Seasonal Trend of Year 2021')\n",
    "ax = sns.barplot(data= seasonal_trend_2021, x = 'doa_month',y = 'Patient_count',palette = 'gnuplot');\n",
    "for bars in ax.containers:\n",
    "    ax.bar_label(bars)\n",
    "plt.ylabel('Patiet Counts')\n",
    "plt.xlabel('Month');"
   ]
  },
  {
   "cell_type": "code",
   "execution_count": 85,
   "id": "5bf412be",
   "metadata": {},
   "outputs": [],
   "source": [
    "plt.figure(figsize=(8,4))\n",
    "plt.title('Seasonal Trend of Year 2022')\n",
    "ax = sns.barplot(data= seasonal_trend_2022, x = 'doa_month',y = 'Patient_count',palette = 'gnuplot');\n",
    "for bars in ax.containers:\n",
    "    ax.bar_label(bars)\n",
    "plt.ylabel('Patiet Counts')\n",
    "plt.xlabel('Month');"
   ]
  },
  {
   "cell_type": "code",
   "execution_count": 86,
   "id": "c2f2841b",
   "metadata": {},
   "outputs": [],
   "source": [
    "plt.figure(figsize=(8,4))\n",
    "plt.title('Seasonal Trend of Year 2023')\n",
    "ax = sns.barplot(data= seasonal_trend_2023, x = 'doa_month',y = 'Patient_count',palette = 'gnuplot');\n",
    "for bars in ax.containers:\n",
    "    ax.bar_label(bars)\n",
    "plt.ylabel('Patiet Counts')\n",
    "plt.xlabel('Month');"
   ]
  },
  {
   "cell_type": "code",
   "execution_count": 87,
   "id": "2b78ea84",
   "metadata": {},
   "outputs": [],
   "source": [
    "plt.figure(figsize=(15,10))\n",
    "\n",
    "\n",
    "plt.subplot(2,3,1)\n",
    "plt.title('Seasonal Trend of Year 2018')\n",
    "ax = sns.barplot(data= seasonal_trend_2018, x = 'doa_month',y = 'Patient_count',palette = 'gnuplot');\n",
    "for bars in ax.containers:\n",
    "    ax.bar_label(bars)\n",
    "plt.ylabel('Patiet Counts')\n",
    "plt.xlabel('Month')\n",
    "\n",
    "plt.subplot(2,3,2)\n",
    "plt.title('Seasonal Trend of Year 2019')\n",
    "ax = sns.barplot(data= seasonal_trend_2019, x = 'doa_month',y = 'Patient_count',palette = 'gnuplot');\n",
    "for bars in ax.containers:\n",
    "    ax.bar_label(bars)\n",
    "plt.ylabel('Patiet Counts')\n",
    "plt.xlabel('Month')\n",
    "\n",
    "plt.subplot(2,3,3)\n",
    "plt.title('Seasonal Trend of Year 2020')\n",
    "ax = sns.barplot(data= seasonal_trend_2020, x = 'doa_month',y = 'Patient_count',palette = 'gnuplot');\n",
    "for bars in ax.containers:\n",
    "    ax.bar_label(bars)\n",
    "plt.ylabel('Patiet Counts')\n",
    "plt.xlabel('Month')\n",
    "\n",
    "plt.subplot(2,3,4)\n",
    "plt.title('Seasonal Trend of Year 2021')\n",
    "ax = sns.barplot(data= seasonal_trend_2021, x = 'doa_month',y = 'Patient_count',palette = 'gnuplot');\n",
    "for bars in ax.containers:\n",
    "    ax.bar_label(bars)\n",
    "plt.ylabel('Patiet Counts')\n",
    "plt.xlabel('Month')\n",
    "\n",
    "plt.subplot(2,3,5)\n",
    "plt.title('Seasonal Trend of Year 2022')\n",
    "ax = sns.barplot(data= seasonal_trend_2022, x = 'doa_month',y = 'Patient_count',palette = 'gnuplot');\n",
    "for bars in ax.containers:\n",
    "    ax.bar_label(bars)\n",
    "plt.ylabel('Patiet Counts')\n",
    "plt.xlabel('Month')\n",
    "\n",
    "plt.subplot(2,3,6)\n",
    "plt.title('Seasonal Trend of Year 2023')\n",
    "ax = sns.barplot(data= seasonal_trend_2023, x = 'doa_month',y = 'Patient_count',palette = 'gnuplot');\n",
    "for bars in ax.containers:\n",
    "    ax.bar_label(bars)\n",
    "plt.ylabel('Patiet Counts')\n",
    "plt.xlabel('Month');"
   ]
  },
  {
   "cell_type": "code",
   "execution_count": 88,
   "id": "148a57fe",
   "metadata": {},
   "outputs": [],
   "source": [
    "healthcare.head()"
   ]
  },
  {
   "cell_type": "code",
   "execution_count": 89,
   "id": "fed1a5cb",
   "metadata": {},
   "outputs": [],
   "source": [
    "avg_days_in_hospital = round(healthcare[['Medical Condition','Days in Hospital']].groupby('Medical Condition')[['Days in Hospital']].mean()).rename(\n",
    "columns = {'Days in Hospital':'Average Count of Days'})\n",
    "avg_days_in_hospital.reset_index()"
   ]
  },
  {
   "cell_type": "code",
   "execution_count": 90,
   "id": "8af9ee5c",
   "metadata": {},
   "outputs": [],
   "source": [
    "healthcare.head()"
   ]
  },
  {
   "cell_type": "code",
   "execution_count": 91,
   "id": "c4fb5097",
   "metadata": {},
   "outputs": [],
   "source": [
    " (( healthcare['Billing Amount'] - healthcare['Billing Amount'].mean() )/healthcare['Billing Amount'].std()).abs()\n",
    "healthcare['zscore_Billing_Amount'] = (( healthcare['Billing Amount'] - healthcare['Billing Amount'].mean() )/healthcare['Billing Amount'].std()).abs()\n",
    "healthcare.head()"
   ]
  },
  {
   "cell_type": "code",
   "execution_count": 92,
   "id": "98a4a686",
   "metadata": {},
   "outputs": [],
   "source": [
    "threshold_limit = 3\n",
    "healthcare[healthcare['zscore_Billing_Amount'] > threshold_limit]"
   ]
  },
  {
   "cell_type": "code",
   "execution_count": 93,
   "id": "beb6c8ff",
   "metadata": {},
   "outputs": [],
   "source": [
    "%notebook \"E:\\Project for Resume\\Python Healthcare Analysis Project\\Healthcare Analysis Python Notebook\\Healthcare Analysis.ipynb"
   ]
  },
  {
   "cell_type": "code",
   "execution_count": 94,
   "id": "cc63acbf",
   "metadata": {},
   "outputs": [],
   "source": [
    "# Importing Library \n",
    "import pandas as pd\n",
    "import numpy as np\n",
    "import matplotlib.pyplot as plt\n",
    "import seaborn as sns\n",
    "sns.set_style('darkgrid')\n",
    "\n",
    "# Showing max columns and rows\n",
    "pd.set_option(\"display.max_columns\",None)\n",
    "pd.set_option('display.max_rows',None)\n",
    "pd.option_context('mode.use_inf_as_na', True)\n",
    "\n",
    "# Ignore warnings\n",
    "import warnings\n",
    "warnings.filterwarnings('ignore')"
   ]
  },
  {
   "cell_type": "code",
   "execution_count": 95,
   "id": "634bc863",
   "metadata": {},
   "outputs": [],
   "source": [
    "healthcare.head()"
   ]
  },
  {
   "cell_type": "code",
   "execution_count": 96,
   "id": "d1ce1fe6",
   "metadata": {},
   "outputs": [],
   "source": [
    "healthcare[['Gender']].value_counts()"
   ]
  },
  {
   "cell_type": "code",
   "execution_count": 97,
   "id": "ec8b16c7",
   "metadata": {},
   "outputs": [],
   "source": [
    "gender=pd.DataFrame(healthcare[['Gender']].value_counts())\n",
    "gender"
   ]
  },
  {
   "cell_type": "code",
   "execution_count": 98,
   "id": "35524993",
   "metadata": {},
   "outputs": [],
   "source": [
    "plt.pie(x=gender['count'])"
   ]
  },
  {
   "cell_type": "code",
   "execution_count": 99,
   "id": "7cc691b1",
   "metadata": {},
   "outputs": [],
   "source": [
    "plt.pie(x=gender['count'],labels=gender.index);"
   ]
  },
  {
   "cell_type": "code",
   "execution_count": 100,
   "id": "f193c834",
   "metadata": {},
   "outputs": [],
   "source": [
    "gender=pd.DataFrame(healthcare[['Gender']].value_counts())\n",
    "gender.reset_index(inplace =True)"
   ]
  },
  {
   "cell_type": "code",
   "execution_count": 101,
   "id": "4e25dfa0",
   "metadata": {},
   "outputs": [],
   "source": [
    "plt.pie(x=gender['count'],labels=gender.index);"
   ]
  },
  {
   "cell_type": "code",
   "execution_count": 102,
   "id": "aa5a8ee7",
   "metadata": {},
   "outputs": [],
   "source": [
    "plt.pie(x=gender['count'],labels=gender);"
   ]
  },
  {
   "cell_type": "code",
   "execution_count": 103,
   "id": "b94887e9",
   "metadata": {},
   "outputs": [],
   "source": [
    "plt.pie(x=gender['count'],labels='gender');"
   ]
  },
  {
   "cell_type": "code",
   "execution_count": 104,
   "id": "9ccd899d",
   "metadata": {},
   "outputs": [],
   "source": [
    "gender=pd.DataFrame(healthcare[['Gender']].value_counts())\n",
    "gender.reset_index(inplace =True)\n",
    "gender"
   ]
  },
  {
   "cell_type": "code",
   "execution_count": 105,
   "id": "959ba84f",
   "metadata": {},
   "outputs": [],
   "source": [
    "plt.pie(x=gender['count'],labels='Gender');"
   ]
  },
  {
   "cell_type": "code",
   "execution_count": 106,
   "id": "e0b39197",
   "metadata": {},
   "outputs": [],
   "source": [
    "plt.pie(x=gender['count);"
   ]
  },
  {
   "cell_type": "code",
   "execution_count": 107,
   "id": "e5ca2947",
   "metadata": {},
   "outputs": [],
   "source": [
    "plt.pie(x=gender['count']);"
   ]
  },
  {
   "cell_type": "code",
   "execution_count": 108,
   "id": "8e628146",
   "metadata": {},
   "outputs": [],
   "source": [
    "plt.pie(x=gender['count'],labels=gender['Gender']);"
   ]
  },
  {
   "cell_type": "code",
   "execution_count": 109,
   "id": "c779e627",
   "metadata": {},
   "outputs": [],
   "source": [
    "plt.pie(x=gender['count'],labels=gender['Gender'], autopct='%1.1f%%');"
   ]
  },
  {
   "cell_type": "code",
   "execution_count": 110,
   "id": "5688f600",
   "metadata": {},
   "outputs": [],
   "source": [
    "plt.figure(figsize = (7,8))\n",
    "plt.pie(x=gender['count'],labels=gender['Gender'], autopct='%1.1f%%');"
   ]
  },
  {
   "cell_type": "code",
   "execution_count": 111,
   "id": "f1edb3f6",
   "metadata": {},
   "outputs": [],
   "source": [
    "plt.figure(figsize = (2,2))\n",
    "plt.pie(x=gender['count'],labels=gender['Gender'], autopct='%1.1f%%');"
   ]
  },
  {
   "cell_type": "code",
   "execution_count": 112,
   "id": "55c184ef",
   "metadata": {},
   "outputs": [],
   "source": [
    "plt.figure(figsize = (4,5))\n",
    "plt.pie(x=gender['count'],labels=gender['Gender'], autopct='%1.1f%%');"
   ]
  },
  {
   "cell_type": "code",
   "execution_count": 113,
   "id": "84525d13",
   "metadata": {},
   "outputs": [],
   "source": [
    "# Importing Library \n",
    "import pandas as pd\n",
    "import numpy as np\n",
    "import matplotlib.pyplot as plt\n",
    "import seaborn as sns\n",
    "sns.set_style('darkgrid')\n",
    "\n",
    "# Showing max columns and rows\n",
    "pd.set_option(\"display.max_columns\",None)\n",
    "pd.set_option('display.max_rows',None)\n",
    "pd.option_context('mode.use_inf_as_na', True)\n",
    "\n",
    "# Ignore warnings\n",
    "import warnings\n",
    "warnings.filterwarnings('ignore')"
   ]
  },
  {
   "cell_type": "code",
   "execution_count": 114,
   "id": "4d778b98",
   "metadata": {},
   "outputs": [],
   "source": [
    "# Importing Dataset\n",
    "healthcare = pd.read_csv('E:\\Project for Resume\\Python Healthcare Analysis Project\\Healthcare Dataset\\healthcare_dataset.csv')\n",
    "healthcare.head()"
   ]
  },
  {
   "cell_type": "code",
   "execution_count": 115,
   "id": "07432659",
   "metadata": {},
   "outputs": [],
   "source": [
    "# Checking for null values\n",
    "healthcare.isnull().sum()"
   ]
  },
  {
   "cell_type": "code",
   "execution_count": 116,
   "id": "23ff93e3",
   "metadata": {},
   "outputs": [],
   "source": [
    "# checking for Blank Values\n",
    "healthcare.isna().sum()"
   ]
  },
  {
   "cell_type": "code",
   "execution_count": 117,
   "id": "459119ac",
   "metadata": {},
   "outputs": [],
   "source": [
    "healthcare.duplicated().sum()"
   ]
  },
  {
   "cell_type": "code",
   "execution_count": 118,
   "id": "6aedc7fa",
   "metadata": {},
   "outputs": [],
   "source": [
    "healthcare.head()"
   ]
  },
  {
   "cell_type": "code",
   "execution_count": 119,
   "id": "553c1c62",
   "metadata": {},
   "outputs": [],
   "source": [
    "healthcare.columns"
   ]
  },
  {
   "cell_type": "code",
   "execution_count": 120,
   "id": "ef6c83ff",
   "metadata": {},
   "outputs": [],
   "source": [
    "healthcare.info()"
   ]
  },
  {
   "cell_type": "code",
   "execution_count": 121,
   "id": "510cf3bd",
   "metadata": {},
   "outputs": [],
   "source": [
    "healthcare['Date of Admission'] = pd.to_datetime(healthcare['Date of Admission'],format = '%Y-%m-%d')\n",
    "healthcare.info()"
   ]
  },
  {
   "cell_type": "code",
   "execution_count": 122,
   "id": "a545fed1",
   "metadata": {},
   "outputs": [],
   "source": [
    "healthcare['Discharge Date'] = pd.to_datetime(healthcare['Discharge Date'])\n",
    "healthcare['Discharge Date'].info()"
   ]
  },
  {
   "cell_type": "code",
   "execution_count": 123,
   "id": "cf2bc48b",
   "metadata": {},
   "outputs": [],
   "source": [
    "healthcare['Billing Amount']=round(healthcare[['Billing Amount']],2)\n",
    "healthcare.head()"
   ]
  },
  {
   "cell_type": "code",
   "execution_count": 124,
   "id": "13237910",
   "metadata": {},
   "outputs": [],
   "source": [
    "healthcare.describe()"
   ]
  },
  {
   "cell_type": "code",
   "execution_count": 125,
   "id": "a2a5b3a7",
   "metadata": {},
   "outputs": [],
   "source": [
    "healthcare['Age'].mean()\n",
    "print('The Average age of overall pateints is {}.'.format(round(healthcare['Age'].mean(),2)))"
   ]
  },
  {
   "cell_type": "code",
   "execution_count": 126,
   "id": "09bf2614",
   "metadata": {},
   "outputs": [],
   "source": [
    "avg_age_by_gender = round(healthcare[['Gender','Age']].groupby('Gender')[['Age']].mean(),2)\n",
    "avg_age_by_gender"
   ]
  },
  {
   "cell_type": "code",
   "execution_count": 127,
   "id": "1b34597f",
   "metadata": {},
   "outputs": [],
   "source": [
    "gender=pd.DataFrame(healthcare[['Gender']].value_counts())\n",
    "gender.reset_index(inplace =True)\n",
    "gender"
   ]
  },
  {
   "cell_type": "code",
   "execution_count": 128,
   "id": "f3101ac1",
   "metadata": {},
   "outputs": [],
   "source": [
    "Gender"
   ]
  },
  {
   "cell_type": "code",
   "execution_count": 129,
   "id": "894cf1bf",
   "metadata": {},
   "outputs": [],
   "source": [
    "# there are 8639 Hospitals , but top 20 hospitals with count of patients are  \n",
    "healthcare[['Hospital','Name']].groupby('Hospital')[['Name']].count().rename(\n",
    "    columns = {'Name':'Patient Count'}).sort_values('Patient Count',ascending = False).reset_index()"
   ]
  },
  {
   "cell_type": "code",
   "execution_count": 130,
   "id": "1cbaffd6",
   "metadata": {},
   "outputs": [],
   "source": [
    "healthcare.head()"
   ]
  },
  {
   "cell_type": "code",
   "execution_count": 131,
   "id": "fed39f67",
   "metadata": {},
   "outputs": [],
   "source": [
    "common_medical_patients = healthcare.groupby('Medical Condition')[['Medical Condition']].count()\n",
    "common_medical_patients"
   ]
  },
  {
   "cell_type": "code",
   "execution_count": 132,
   "id": "50e3ad6b",
   "metadata": {},
   "outputs": [],
   "source": [
    "plt.figure(figsize =(12,4))\n",
    "ax= sns.countplot(data= healthcare, \n",
    "                  x = 'Medical Condition',\n",
    "                  palette = 'GnBu_r',\n",
    "                  order = healthcare['Medical Condition'].value_counts().index)\n",
    "for bars in ax.containers:\n",
    "    ax.bar_label(ax.containers[0])"
   ]
  },
  {
   "cell_type": "code",
   "execution_count": 133,
   "id": "68b83d86",
   "metadata": {},
   "outputs": [],
   "source": [
    "healthcare.head()"
   ]
  },
  {
   "cell_type": "code",
   "execution_count": 134,
   "id": "e16947d9",
   "metadata": {},
   "outputs": [],
   "source": [
    "healthcare['Insurance Provider'].unique()"
   ]
  },
  {
   "cell_type": "code",
   "execution_count": 135,
   "id": "347ae6c8",
   "metadata": {},
   "outputs": [],
   "source": [
    "healthcare['Insurance Provider'].value_counts()"
   ]
  },
  {
   "cell_type": "code",
   "execution_count": 136,
   "id": "4cfb5f84",
   "metadata": {},
   "outputs": [],
   "source": [
    "plt.figure(figsize =(12,4))\n",
    "ax = sns.countplot(data = healthcare,\n",
    "                   x='Insurance Provider',\n",
    "                   palette = 'Purples',\n",
    "                  order = healthcare['Insurance Provider'].value_counts().index)\n",
    "for bars in ax.containers:\n",
    "    ax.bar_label(ax.containers[0]);"
   ]
  },
  {
   "cell_type": "code",
   "execution_count": 137,
   "id": "1d575b6f",
   "metadata": {},
   "outputs": [],
   "source": [
    "healthcare.head()"
   ]
  },
  {
   "cell_type": "code",
   "execution_count": 138,
   "id": "6b53de77",
   "metadata": {},
   "outputs": [],
   "source": [
    "avg_billing_amt = round(healthcare[['Admission Type','Billing Amount']].groupby('Admission Type').mean(),2)\n",
    "avg_billing_amt.rename(columns={'Billing Amount':'Average Billing Amount'},inplace = True)\n",
    "avg_billing_amt = avg_billing_amt.sort_values('Average Billing Amount',ascending = False)\n",
    "avg_billing_amt"
   ]
  },
  {
   "cell_type": "code",
   "execution_count": 139,
   "id": "9dbf7598",
   "metadata": {},
   "outputs": [],
   "source": [
    "plt.figure(figsize =(6,3))\n",
    "\n",
    "ax = sns.barplot(data = avg_billing_amt , \n",
    "                 x = avg_billing_amt.index,\n",
    "                 y = 'Average Billing Amount',\n",
    "                 palette = 'gist_earth_r' )\n",
    "for bars in ax.containers:\n",
    "    ax.bar_label(bars)"
   ]
  },
  {
   "cell_type": "code",
   "execution_count": 140,
   "id": "3d1df107",
   "metadata": {},
   "outputs": [],
   "source": [
    "healthcare.head()"
   ]
  },
  {
   "cell_type": "code",
   "execution_count": 141,
   "id": "4b55adce",
   "metadata": {},
   "outputs": [],
   "source": [
    "distribution = pd.DataFrame(healthcare[['Name','Room Number']].value_counts() )\n",
    "distribution"
   ]
  },
  {
   "cell_type": "code",
   "execution_count": 142,
   "id": "33f41470",
   "metadata": {},
   "outputs": [],
   "source": [
    "distribution[distribution['count']>=2]"
   ]
  },
  {
   "cell_type": "code",
   "execution_count": 143,
   "id": "8f8aaeab",
   "metadata": {},
   "outputs": [],
   "source": [
    "healthcare.head()"
   ]
  },
  {
   "cell_type": "code",
   "execution_count": 144,
   "id": "b60a3a3b",
   "metadata": {},
   "outputs": [],
   "source": [
    "doctor = pd.DataFrame(healthcare[['Doctor','Name']].groupby('Doctor')['Name'].count())\n",
    "doctor.rename(columns={'Name':'Counts'},inplace= True)\n",
    "doctor = doctor[doctor['Counts']>=2].sort_values('Counts',ascending = False)\n",
    "doctor"
   ]
  },
  {
   "cell_type": "code",
   "execution_count": 145,
   "id": "2a85658b",
   "metadata": {},
   "outputs": [],
   "source": [
    "doctor[(doctor['Counts']>=2) & (doctor['Counts']<=7)]"
   ]
  },
  {
   "cell_type": "code",
   "execution_count": 146,
   "id": "4fb2b273",
   "metadata": {},
   "outputs": [],
   "source": [
    "healthcare.info()"
   ]
  },
  {
   "cell_type": "code",
   "execution_count": 147,
   "id": "8ec518e8",
   "metadata": {},
   "outputs": [],
   "source": [
    "healthcare['doa_month'] = healthcare['Date of Admission'].dt.month\n",
    "healthcare['doa_year'] = healthcare['Date of Admission'].dt.year\n",
    "healthcare.info()"
   ]
  },
  {
   "cell_type": "code",
   "execution_count": 148,
   "id": "07390465",
   "metadata": {},
   "outputs": [],
   "source": [
    "admission_by_year = healthcare[['Date of Admission','doa_year']].groupby(['doa_year']).count()\n",
    "admission_by_year"
   ]
  },
  {
   "cell_type": "code",
   "execution_count": 149,
   "id": "278af7c7",
   "metadata": {},
   "outputs": [],
   "source": [
    "plt.figure(figsize=(10,4))\n",
    "sns.lineplot(data = admission_by_year,y='Date of Admission',x='doa_year')\n",
    "plt.xlabel('Year');"
   ]
  },
  {
   "cell_type": "code",
   "execution_count": 150,
   "id": "a33372d1",
   "metadata": {},
   "outputs": [],
   "source": [
    "year = healthcare[['Date of Admission','doa_year','doa_month']].groupby(['doa_year','doa_month']).count()\n",
    "year.reset_index(inplace = True)\n",
    "year.rename(columns={'Date of Admission': 'Counts'},inplace = True)\n",
    "year"
   ]
  },
  {
   "cell_type": "code",
   "execution_count": 151,
   "id": "e509e2b8",
   "metadata": {},
   "outputs": [],
   "source": [
    "year_2018 = year[year['doa_year'] == 2018]\n",
    "\n",
    "year_2019 = year[year['doa_year'] == 2019]\n",
    "\n",
    "year_2020 = year[year['doa_year'] == 2020]\n",
    "\n",
    "year_2021 = year[year['doa_year'] == 2021]\n",
    "\n",
    "year_2022 = year[year['doa_year'] == 2022]\n",
    "\n",
    "year_2023 = year[year['doa_year'] == 2023]"
   ]
  },
  {
   "cell_type": "code",
   "execution_count": 152,
   "id": "02a8d72c",
   "metadata": {},
   "outputs": [],
   "source": [
    "# creating subplots\n",
    "plt.figure(figsize=(12,15))\n",
    "\n",
    "plt.subplot(3,3,1)\n",
    "plt.xlabel('Months')\n",
    "plt.ylabel('Counts')\n",
    "plt.title('Year 2018')\n",
    "sns.lineplot(data = year_2018,x='doa_month', y='Counts');\n",
    "\n",
    "plt.subplot(3,3,2)\n",
    "plt.xlabel('Months')\n",
    "plt.ylabel('Counts')\n",
    "plt.title('Year 2019')\n",
    "sns.lineplot(data = year_2019,x='doa_month', y='Counts');\n",
    "\n",
    "plt.subplot(3,3,3)\n",
    "plt.xlabel('Months')\n",
    "plt.ylabel('Counts')\n",
    "plt.title('Year 2020')\n",
    "sns.lineplot(data = year_2020,x='doa_month', y='Counts');\n",
    "\n",
    "plt.subplot(3,3,4)\n",
    "plt.xlabel('Months')\n",
    "plt.ylabel('Counts')\n",
    "plt.title('Year 2021')\n",
    "sns.lineplot(data = year_2021,x='doa_month', y='Counts');\n",
    "\n",
    "plt.subplot(3,3,5)\n",
    "plt.xlabel('Months')\n",
    "plt.ylabel('Counts')\n",
    "plt.title('Year 2022')\n",
    "sns.lineplot(data = year_2022,x='doa_month', y='Counts');\n",
    "\n",
    "plt.subplot(3,3,6)\n",
    "plt.xlabel('Months')\n",
    "plt.ylabel('Counts')\n",
    "plt.title('Year 2023')\n",
    "sns.lineplot(data = year_2023,x='doa_month', y='Counts');"
   ]
  },
  {
   "cell_type": "code",
   "execution_count": 153,
   "id": "85c851ea",
   "metadata": {},
   "outputs": [],
   "source": [
    "healthcare.head()"
   ]
  },
  {
   "cell_type": "code",
   "execution_count": 154,
   "id": "1bff9669",
   "metadata": {},
   "outputs": [],
   "source": [
    "healthcare.info()"
   ]
  },
  {
   "cell_type": "code",
   "execution_count": 155,
   "id": "17dbea62",
   "metadata": {},
   "outputs": [],
   "source": [
    "Age_Billing_Amount_corr = healthcare['Age'].corr(healthcare['Billing Amount'])\n",
    "print('Patients Age And Billing Amount has correlation of {}'.format(Age_Billing_Amount_corr))"
   ]
  },
  {
   "cell_type": "code",
   "execution_count": 156,
   "id": "e0fcffbd",
   "metadata": {},
   "outputs": [],
   "source": [
    "healthcare.head()"
   ]
  },
  {
   "cell_type": "code",
   "execution_count": 157,
   "id": "b6150cef",
   "metadata": {},
   "outputs": [],
   "source": [
    "average_stay_hospital = (healthcare['Discharge Date'] - healthcare['Date of Admission']).dt.days.mean()\n",
    "print('Average Stay of patients in Hospital is {}.'.format(round(average_stay_hospital)))"
   ]
  },
  {
   "cell_type": "code",
   "execution_count": 158,
   "id": "8ddfed09",
   "metadata": {},
   "outputs": [],
   "source": [
    "healthcare.head()"
   ]
  },
  {
   "cell_type": "code",
   "execution_count": 159,
   "id": "393456bd",
   "metadata": {},
   "outputs": [],
   "source": [
    "avg_amt_paid_by_gender = round(healthcare[['Gender','Billing Amount']].groupby('Gender')[['Billing Amount']].mean(),2)\n",
    "avg_amt_paid_by_gender.rename(columns={'Billing Amount':'Average Billing amount'},inplace = True)\n",
    "avg_amt_paid_by_gender"
   ]
  },
  {
   "cell_type": "code",
   "execution_count": 160,
   "id": "a3b2b721",
   "metadata": {},
   "outputs": [],
   "source": [
    "healthcare.head()"
   ]
  },
  {
   "cell_type": "code",
   "execution_count": 161,
   "id": "6676bdbf",
   "metadata": {},
   "outputs": [],
   "source": [
    "admission_type_trend = healthcare[['Admission Type','doa_year']].groupby(['Admission Type','doa_year'])[['Admission Type']].count()\n",
    "admission_type_trend.rename(columns={'Admission Type':'Counts'},inplace = True)\n",
    "admission_type_trend.reset_index(inplace = True)\n",
    "admission_type_trend"
   ]
  },
  {
   "cell_type": "code",
   "execution_count": 162,
   "id": "640b2f5a",
   "metadata": {},
   "outputs": [],
   "source": [
    "elective = admission_type_trend[admission_type_trend['Admission Type'] == 'Elective']\n",
    "\n",
    "emergency = admission_type_trend[admission_type_trend['Admission Type'] == 'Emergency']\n",
    "\n",
    "urgent = admission_type_trend[admission_type_trend['Admission Type'] == 'Urgent']\n",
    " "
   ]
  },
  {
   "cell_type": "code",
   "execution_count": 163,
   "id": "c1d62e44",
   "metadata": {},
   "outputs": [],
   "source": [
    "\n",
    "plt.figure(figsize=(10,3))\n",
    "plt.tight_layout()\n",
    "\n",
    "ax1 = plt.subplot(1,3,1)\n",
    "ax = sns.barplot(data = elective,x = 'doa_year', y = 'Counts', palette = 'afmhot')\n",
    "for bars in ax.containers:\n",
    "    ax.bar_label(ax.containers[0])\n",
    "plt.xlabel('Year')\n",
    "plt.ylabel('Counts')\n",
    "plt.title('Admission Type - Elective');\n",
    "\n",
    "ax2 = plt.subplot(1,3,2,sharey=ax1)\n",
    "ax = sns.barplot(data = emergency,x = 'doa_year', y = 'Counts', palette = 'afmhot')\n",
    "for bars in ax.containers:\n",
    "    ax.bar_label(ax.containers[0])\n",
    "plt.xlabel('Year')\n",
    "plt.ylabel('Counts')\n",
    "plt.title('Admission Type - Emergency');\n",
    "\n",
    "ax3 = plt.subplot(1,3,3,sharey =ax1)\n",
    "ax = sns.barplot(data = urgent,x = 'doa_year', y = 'Counts', palette = 'afmhot')\n",
    "for bars in ax.containers:\n",
    "    ax.bar_label(ax.containers[0])\n",
    "plt.xlabel('Year')\n",
    "plt.ylabel('Counts')\n",
    "plt.title('Admission Type - Urgent');"
   ]
  },
  {
   "cell_type": "code",
   "execution_count": 164,
   "id": "7b98a4cf",
   "metadata": {},
   "outputs": [],
   "source": [
    "healthcare.head()"
   ]
  },
  {
   "cell_type": "code",
   "execution_count": 165,
   "id": "27d2916c",
   "metadata": {},
   "outputs": [],
   "source": [
    "healthcare.groupby('Medical Condition')['Billing Amount'].describe()"
   ]
  },
  {
   "cell_type": "code",
   "execution_count": 166,
   "id": "9f872f0f",
   "metadata": {},
   "outputs": [],
   "source": [
    "avg_billing_amt = round(healthcare.groupby('Medical Condition')[['Billing Amount']].mean().rename(\n",
    "    columns={'Billing Amount': 'Average Billing Amount'}).sort_values('Average Billing Amount',ascending = False).reset_index(),2)\n",
    "avg_billing_amt"
   ]
  },
  {
   "cell_type": "code",
   "execution_count": 167,
   "id": "30c4df74",
   "metadata": {},
   "outputs": [],
   "source": [
    "ax = sns.boxplot(data = healthcare, x = 'Medical Condition', y = 'Billing Amount',palette='YlGn_r');"
   ]
  },
  {
   "cell_type": "code",
   "execution_count": 168,
   "id": "aeaf21cd",
   "metadata": {},
   "outputs": [],
   "source": [
    "healthcare.head()"
   ]
  },
  {
   "cell_type": "code",
   "execution_count": 169,
   "id": "9dc6e3f6",
   "metadata": {},
   "outputs": [],
   "source": [
    "medication_pattern = healthcare.pivot_table(index ='Medical Condition',columns = 'Medication',aggfunc='size')\n",
    "medication_pattern"
   ]
  },
  {
   "cell_type": "code",
   "execution_count": 170,
   "id": "5a342a82",
   "metadata": {},
   "outputs": [],
   "source": [
    "sns.heatmap(medication_pattern, annot = True,fmt ='g' );"
   ]
  },
  {
   "cell_type": "code",
   "execution_count": 171,
   "id": "e39714ed",
   "metadata": {},
   "outputs": [],
   "source": [
    "healthcare.head()"
   ]
  },
  {
   "cell_type": "code",
   "execution_count": 172,
   "id": "8c298b6a",
   "metadata": {},
   "outputs": [],
   "source": [
    "pd.DataFrame(healthcare['Test Results'].value_counts()).rename(columns = {'count':'Counts'})"
   ]
  },
  {
   "cell_type": "code",
   "execution_count": 173,
   "id": "c54c867a",
   "metadata": {},
   "outputs": [],
   "source": [
    "test_results_distribution = healthcare[['Test Results','Name']].groupby('Test Results')[['Name']].count().rename(columns={'Name':'Count'})\n",
    "test_results_distribution"
   ]
  },
  {
   "cell_type": "code",
   "execution_count": 174,
   "id": "fbfd29d9",
   "metadata": {},
   "outputs": [],
   "source": [
    "plt.figure(figsize = (6,4))\n",
    "plt.title('Test Results Distribution')\n",
    "plt.xlabel('Test Results')\n",
    "ax = sns.barplot(data = test_results_distribution, x = test_results_distribution.index,y = 'Count' ,palette = 'viridis');\n",
    "for bars in ax.containers:\n",
    "    ax.bar_label(bars)"
   ]
  },
  {
   "cell_type": "code",
   "execution_count": 175,
   "id": "87ad5c6d",
   "metadata": {},
   "outputs": [],
   "source": [
    "healthcare.head()"
   ]
  },
  {
   "cell_type": "code",
   "execution_count": 176,
   "id": "e2fcc4d8",
   "metadata": {},
   "outputs": [],
   "source": [
    "healthcare['Days in Hospital'] = (healthcare['Discharge Date'] - healthcare['Date of Admission']).dt.days"
   ]
  },
  {
   "cell_type": "code",
   "execution_count": 177,
   "id": "a4a9830d",
   "metadata": {},
   "outputs": [],
   "source": [
    "healthcare[['Days in Hospital','Medication']].groupby('Medication')[['Days in Hospital']].mean()"
   ]
  },
  {
   "cell_type": "code",
   "execution_count": 178,
   "id": "34c2cd9e",
   "metadata": {},
   "outputs": [],
   "source": [
    "healthcare[['Days in Hospital','Medication']].groupby('Medication')[['Days in Hospital']].describe()"
   ]
  },
  {
   "cell_type": "code",
   "execution_count": 179,
   "id": "ca49c33b",
   "metadata": {},
   "outputs": [],
   "source": [
    "plt.figure(figsize=(10,4))\n",
    "sns.boxplot(data = healthcare, x = 'Medication', y='Days in Hospital', palette = 'GnBu');"
   ]
  },
  {
   "cell_type": "code",
   "execution_count": 180,
   "id": "57a5debe",
   "metadata": {},
   "outputs": [],
   "source": [
    "healthcare.head()"
   ]
  },
  {
   "cell_type": "code",
   "execution_count": 181,
   "id": "69a59326",
   "metadata": {},
   "outputs": [],
   "source": [
    "Insurance_Provider_avg_Billing_amt = round(healthcare[['Insurance Provider','Billing Amount']].groupby('Insurance Provider').mean(),2).rename(columns = {'Billing Amount':'Average Billing Amount'}).sort_values('Average Billing Amount',ascending = False)\n",
    "Insurance_Provider_avg_Billing_amt"
   ]
  },
  {
   "cell_type": "code",
   "execution_count": 182,
   "id": "6f8c69c7",
   "metadata": {},
   "outputs": [],
   "source": [
    "plt.figure(figsize=(6,4))\n",
    "plt.title('Average Billing Amount by Insurance Provider')\n",
    "sns.lineplot(data= Insurance_Provider_avg_Billing_amt,\n",
    "             x =Insurance_Provider_avg_Billing_amt.index,\n",
    "             y = 'Average Billing Amount');"
   ]
  },
  {
   "cell_type": "code",
   "execution_count": 183,
   "id": "7956af1a",
   "metadata": {},
   "outputs": [],
   "source": [
    "healthcare.head()"
   ]
  },
  {
   "cell_type": "code",
   "execution_count": 184,
   "id": "8bdb33e0",
   "metadata": {},
   "outputs": [],
   "source": [
    "seasonal_trend_2018 = healthcare[healthcare['doa_year']==2018]\n",
    "seasonal_trend_2018 = seasonal_trend_2018[['doa_month','Name']].groupby('doa_month')[['Name']].count().reset_index().rename(columns ={'Name':'Patient_count'})\n",
    "seasonal_trend_2018"
   ]
  },
  {
   "cell_type": "code",
   "execution_count": 185,
   "id": "d868dab9",
   "metadata": {},
   "outputs": [],
   "source": [
    "seasonal_trend_2019 = healthcare[healthcare['doa_year']==2019]\n",
    "seasonal_trend_2019 = seasonal_trend_2019[['doa_month','Name']].groupby('doa_month')[['Name']].count().reset_index().rename(columns ={'Name':'Patient_count'})\n",
    "seasonal_trend_2019"
   ]
  },
  {
   "cell_type": "code",
   "execution_count": 186,
   "id": "08019c5d",
   "metadata": {},
   "outputs": [],
   "source": [
    "seasonal_trend_2020 = healthcare[healthcare['doa_year']==2020]\n",
    "seasonal_trend_2020 = seasonal_trend_2020[['doa_month','Name']].groupby('doa_month')[['Name']].count().reset_index().rename(columns ={'Name':'Patient_count'})\n",
    "seasonal_trend_2020"
   ]
  },
  {
   "cell_type": "code",
   "execution_count": 187,
   "id": "8fe11bb3",
   "metadata": {},
   "outputs": [],
   "source": [
    "seasonal_trend_2021 = healthcare[healthcare['doa_year']==2021]\n",
    "seasonal_trend_2021 = seasonal_trend_2021[['doa_month','Name']].groupby('doa_month')[['Name']].count().reset_index().rename(columns ={'Name':'Patient_count'})"
   ]
  },
  {
   "cell_type": "code",
   "execution_count": 188,
   "id": "29553ac7",
   "metadata": {},
   "outputs": [],
   "source": [
    "seasonal_trend_2022 = healthcare[healthcare['doa_year']==2022]\n",
    "seasonal_trend_2022 = seasonal_trend_2022[['doa_month','Name']].groupby('doa_month')[['Name']].count().reset_index().rename(columns ={'Name':'Patient_count'})"
   ]
  },
  {
   "cell_type": "code",
   "execution_count": 189,
   "id": "4ef2cd3d",
   "metadata": {},
   "outputs": [],
   "source": [
    "seasonal_trend_2023 = healthcare[healthcare['doa_year']==2023]\n",
    "seasonal_trend_2023 = seasonal_trend_2023[['doa_month','Name']].groupby('doa_month')[['Name']].count().reset_index().rename(columns ={'Name':'Patient_count'})"
   ]
  },
  {
   "cell_type": "code",
   "execution_count": 190,
   "id": "5fbd1a83",
   "metadata": {},
   "outputs": [],
   "source": [
    "plt.figure(figsize=(4,2))\n",
    "plt.title('Seasonal Trend of Year 2018')\n",
    "ax = sns.barplot(data= seasonal_trend_2018, x = 'doa_month',y = 'Patient_count',palette = 'gnuplot');\n",
    "for bars in ax.containers:\n",
    "    ax.bar_label(bars)\n",
    "plt.ylabel('Patiet Counts')\n",
    "plt.xlabel('Month');"
   ]
  },
  {
   "cell_type": "code",
   "execution_count": 191,
   "id": "f5441143",
   "metadata": {},
   "outputs": [],
   "source": [
    "plt.figure(figsize=(8,4))\n",
    "plt.title('Seasonal Trend of Year 2019')\n",
    "ax = sns.barplot(data= seasonal_trend_2019, x = 'doa_month',y = 'Patient_count',palette = 'gnuplot');\n",
    "for bars in ax.containers:\n",
    "    ax.bar_label(bars)\n",
    "plt.ylabel('Patiet Counts')\n",
    "plt.xlabel('Month');"
   ]
  },
  {
   "cell_type": "code",
   "execution_count": 192,
   "id": "45c7ee0e",
   "metadata": {},
   "outputs": [],
   "source": [
    "plt.figure(figsize=(8,4))\n",
    "plt.title('Seasonal Trend of Year 2020')\n",
    "ax = sns.barplot(data= seasonal_trend_2020, x = 'doa_month',y = 'Patient_count',palette = 'gnuplot');\n",
    "for bars in ax.containers:\n",
    "    ax.bar_label(bars)\n",
    "plt.ylabel('Patiet Counts')\n",
    "plt.xlabel('Month');"
   ]
  },
  {
   "cell_type": "code",
   "execution_count": 193,
   "id": "7d2a1b2f",
   "metadata": {},
   "outputs": [],
   "source": [
    "plt.figure(figsize=(8,4))\n",
    "plt.title('Seasonal Trend of Year 2021')\n",
    "ax = sns.barplot(data= seasonal_trend_2021, x = 'doa_month',y = 'Patient_count',palette = 'gnuplot');\n",
    "for bars in ax.containers:\n",
    "    ax.bar_label(bars)\n",
    "plt.ylabel('Patiet Counts')\n",
    "plt.xlabel('Month');"
   ]
  },
  {
   "cell_type": "code",
   "execution_count": 194,
   "id": "e103da77",
   "metadata": {},
   "outputs": [],
   "source": [
    "plt.figure(figsize=(8,4))\n",
    "plt.title('Seasonal Trend of Year 2022')\n",
    "ax = sns.barplot(data= seasonal_trend_2022, x = 'doa_month',y = 'Patient_count',palette = 'gnuplot');\n",
    "for bars in ax.containers:\n",
    "    ax.bar_label(bars)\n",
    "plt.ylabel('Patiet Counts')\n",
    "plt.xlabel('Month');"
   ]
  },
  {
   "cell_type": "code",
   "execution_count": 195,
   "id": "c4624650",
   "metadata": {},
   "outputs": [],
   "source": [
    "plt.figure(figsize=(8,4))\n",
    "plt.title('Seasonal Trend of Year 2023')\n",
    "ax = sns.barplot(data= seasonal_trend_2023, x = 'doa_month',y = 'Patient_count',palette = 'gnuplot');\n",
    "for bars in ax.containers:\n",
    "    ax.bar_label(bars)\n",
    "plt.ylabel('Patiet Counts')\n",
    "plt.xlabel('Month');"
   ]
  },
  {
   "cell_type": "code",
   "execution_count": 196,
   "id": "d5fa466d",
   "metadata": {},
   "outputs": [],
   "source": [
    "plt.figure(figsize=(15,10))\n",
    "\n",
    "\n",
    "plt.subplot(2,3,1)\n",
    "plt.title('Seasonal Trend of Year 2018')\n",
    "ax = sns.barplot(data= seasonal_trend_2018, x = 'doa_month',y = 'Patient_count',palette = 'gnuplot');\n",
    "for bars in ax.containers:\n",
    "    ax.bar_label(bars)\n",
    "plt.ylabel('Patiet Counts')\n",
    "plt.xlabel('Month')\n",
    "\n",
    "plt.subplot(2,3,2)\n",
    "plt.title('Seasonal Trend of Year 2019')\n",
    "ax = sns.barplot(data= seasonal_trend_2019, x = 'doa_month',y = 'Patient_count',palette = 'gnuplot');\n",
    "for bars in ax.containers:\n",
    "    ax.bar_label(bars)\n",
    "plt.ylabel('Patiet Counts')\n",
    "plt.xlabel('Month')\n",
    "\n",
    "plt.subplot(2,3,3)\n",
    "plt.title('Seasonal Trend of Year 2020')\n",
    "ax = sns.barplot(data= seasonal_trend_2020, x = 'doa_month',y = 'Patient_count',palette = 'gnuplot');\n",
    "for bars in ax.containers:\n",
    "    ax.bar_label(bars)\n",
    "plt.ylabel('Patiet Counts')\n",
    "plt.xlabel('Month')\n",
    "\n",
    "plt.subplot(2,3,4)\n",
    "plt.title('Seasonal Trend of Year 2021')\n",
    "ax = sns.barplot(data= seasonal_trend_2021, x = 'doa_month',y = 'Patient_count',palette = 'gnuplot');\n",
    "for bars in ax.containers:\n",
    "    ax.bar_label(bars)\n",
    "plt.ylabel('Patiet Counts')\n",
    "plt.xlabel('Month')\n",
    "\n",
    "plt.subplot(2,3,5)\n",
    "plt.title('Seasonal Trend of Year 2022')\n",
    "ax = sns.barplot(data= seasonal_trend_2022, x = 'doa_month',y = 'Patient_count',palette = 'gnuplot');\n",
    "for bars in ax.containers:\n",
    "    ax.bar_label(bars)\n",
    "plt.ylabel('Patiet Counts')\n",
    "plt.xlabel('Month')\n",
    "\n",
    "plt.subplot(2,3,6)\n",
    "plt.title('Seasonal Trend of Year 2023')\n",
    "ax = sns.barplot(data= seasonal_trend_2023, x = 'doa_month',y = 'Patient_count',palette = 'gnuplot');\n",
    "for bars in ax.containers:\n",
    "    ax.bar_label(bars)\n",
    "plt.ylabel('Patiet Counts')\n",
    "plt.xlabel('Month');"
   ]
  },
  {
   "cell_type": "code",
   "execution_count": 197,
   "id": "a1438a6c",
   "metadata": {},
   "outputs": [],
   "source": [
    "healthcare.head()"
   ]
  },
  {
   "cell_type": "code",
   "execution_count": 198,
   "id": "a02d66dd",
   "metadata": {},
   "outputs": [],
   "source": [
    "avg_days_in_hospital = round(healthcare[['Medical Condition','Days in Hospital']].groupby('Medical Condition')[['Days in Hospital']].mean()).rename(\n",
    "columns = {'Days in Hospital':'Average Count of Days'})\n",
    "avg_days_in_hospital.reset_index()"
   ]
  },
  {
   "cell_type": "code",
   "execution_count": 199,
   "id": "e96ee0b8",
   "metadata": {},
   "outputs": [],
   "source": [
    "healthcare.head()"
   ]
  },
  {
   "cell_type": "code",
   "execution_count": 200,
   "id": "d3a16d30",
   "metadata": {},
   "outputs": [],
   "source": [
    " (( healthcare['Billing Amount'] - healthcare['Billing Amount'].mean() )/healthcare['Billing Amount'].std()).abs()\n",
    "healthcare['zscore_Billing_Amount'] = (( healthcare['Billing Amount'] - healthcare['Billing Amount'].mean() )/healthcare['Billing Amount'].std()).abs()\n",
    "healthcare.head()"
   ]
  },
  {
   "cell_type": "code",
   "execution_count": 201,
   "id": "488d6ef4",
   "metadata": {},
   "outputs": [],
   "source": [
    "threshold_limit = 3\n",
    "healthcare[healthcare['zscore_Billing_Amount'] > threshold_limit]"
   ]
  },
  {
   "cell_type": "code",
   "execution_count": 202,
   "id": "a4b90a3d",
   "metadata": {},
   "outputs": [],
   "source": [
    "%notebook \"E:\\Project for Resume\\Python Healthcare Analysis Project\\Healthcare Analysis Python Notebook\\Healthcare Analysis.ipynb"
   ]
  },
  {
   "cell_type": "code",
   "execution_count": 203,
   "id": "28530db6",
   "metadata": {},
   "outputs": [],
   "source": [
    "# Importing Library \n",
    "import pandas as pd\n",
    "import numpy as np\n",
    "import matplotlib.pyplot as plt\n",
    "import seaborn as sns\n",
    "sns.set_style('darkgrid')\n",
    "\n",
    "# Showing max columns and rows\n",
    "pd.set_option(\"display.max_columns\",None)\n",
    "pd.set_option('display.max_rows',None)\n",
    "pd.option_context('mode.use_inf_as_na', True)\n",
    "\n",
    "# Ignore warnings\n",
    "import warnings\n",
    "warnings.filterwarnings('ignore')"
   ]
  },
  {
   "cell_type": "code",
   "execution_count": 204,
   "id": "91054f9b",
   "metadata": {},
   "outputs": [],
   "source": [
    "# Importing Dataset\n",
    "healthcare = pd.read_csv('E:\\Project for Resume\\Python Healthcare Analysis Project\\Healthcare Dataset\\healthcare_dataset.csv')\n",
    "healthcare.head()"
   ]
  },
  {
   "cell_type": "code",
   "execution_count": 205,
   "id": "9bce7f96",
   "metadata": {},
   "outputs": [],
   "source": [
    "# Checking for null values\n",
    "healthcare.isnull().sum()"
   ]
  },
  {
   "cell_type": "code",
   "execution_count": 206,
   "id": "5e22305b",
   "metadata": {},
   "outputs": [],
   "source": [
    "# checking for Blank Values\n",
    "healthcare.isna().sum()"
   ]
  },
  {
   "cell_type": "code",
   "execution_count": 207,
   "id": "e5778820",
   "metadata": {},
   "outputs": [],
   "source": [
    "healthcare.duplicated().sum()"
   ]
  },
  {
   "cell_type": "code",
   "execution_count": 208,
   "id": "7a2119fe",
   "metadata": {},
   "outputs": [],
   "source": [
    "healthcare.head()"
   ]
  },
  {
   "cell_type": "code",
   "execution_count": 209,
   "id": "9ab21579",
   "metadata": {},
   "outputs": [],
   "source": [
    "healthcare.columns"
   ]
  },
  {
   "cell_type": "code",
   "execution_count": 210,
   "id": "ee3fadda",
   "metadata": {},
   "outputs": [],
   "source": [
    "healthcare.info()"
   ]
  },
  {
   "cell_type": "code",
   "execution_count": 211,
   "id": "512a94df",
   "metadata": {},
   "outputs": [],
   "source": [
    "healthcare['Date of Admission'] = pd.to_datetime(healthcare['Date of Admission'],format = '%Y-%m-%d')\n",
    "healthcare.info()"
   ]
  },
  {
   "cell_type": "code",
   "execution_count": 212,
   "id": "165cd8f6",
   "metadata": {},
   "outputs": [],
   "source": [
    "healthcare['Discharge Date'] = pd.to_datetime(healthcare['Discharge Date'])\n",
    "healthcare['Discharge Date'].info()"
   ]
  },
  {
   "cell_type": "code",
   "execution_count": 213,
   "id": "b0e5c2c5",
   "metadata": {},
   "outputs": [],
   "source": [
    "healthcare['Billing Amount']=round(healthcare[['Billing Amount']],2)\n",
    "healthcare.head()"
   ]
  },
  {
   "cell_type": "code",
   "execution_count": 214,
   "id": "c74b9c88",
   "metadata": {},
   "outputs": [],
   "source": [
    "healthcare.describe()"
   ]
  },
  {
   "cell_type": "code",
   "execution_count": 215,
   "id": "3abfa63f",
   "metadata": {},
   "outputs": [],
   "source": [
    "healthcare['Age'].mean()\n",
    "print('The Average age of overall pateints is {}.'.format(round(healthcare['Age'].mean(),2)))"
   ]
  },
  {
   "cell_type": "code",
   "execution_count": 216,
   "id": "ffc25221",
   "metadata": {},
   "outputs": [],
   "source": [
    "avg_age_by_gender = round(healthcare[['Gender','Age']].groupby('Gender')[['Age']].mean(),2)\n",
    "avg_age_by_gender"
   ]
  },
  {
   "cell_type": "code",
   "execution_count": 217,
   "id": "553c1243",
   "metadata": {},
   "outputs": [],
   "source": [
    "gender=pd.DataFrame(healthcare[['Gender']].value_counts())\n",
    "gender.reset_index(inplace =True)\n",
    "gender"
   ]
  },
  {
   "cell_type": "code",
   "execution_count": 218,
   "id": "d8dd6acd",
   "metadata": {},
   "outputs": [],
   "source": [
    "plt.figure(figsize = (4,5))\n",
    "plt.pie(x=gender['count'],labels=gender['Gender'], autopct='%1.1f%%');"
   ]
  },
  {
   "cell_type": "code",
   "execution_count": 219,
   "id": "ff9aad45",
   "metadata": {},
   "outputs": [],
   "source": [
    "healthcare.head()"
   ]
  },
  {
   "cell_type": "code",
   "execution_count": 220,
   "id": "eca0ef8e",
   "metadata": {},
   "outputs": [],
   "source": [
    "male_female_patients =  healthcare[['Gender']].value_counts()\n",
    "male_female_patients"
   ]
  },
  {
   "cell_type": "code",
   "execution_count": 221,
   "id": "25fe6298",
   "metadata": {},
   "outputs": [],
   "source": [
    "healthcare.head()"
   ]
  },
  {
   "cell_type": "code",
   "execution_count": 222,
   "id": "e8c38991",
   "metadata": {},
   "outputs": [],
   "source": [
    "healthcare['Blood Type'].unique()\n",
    "print('Different Blood Types are {}.'.format(healthcare['Blood Type'].unique()))"
   ]
  },
  {
   "cell_type": "code",
   "execution_count": 223,
   "id": "bcdaab7e",
   "metadata": {},
   "outputs": [],
   "source": [
    "healthcare[['Hospital']].nunique()"
   ]
  },
  {
   "cell_type": "code",
   "execution_count": 224,
   "id": "a11b2762",
   "metadata": {},
   "outputs": [],
   "source": [
    "# there are 8639 Hospitals , but top 20 hospitals with count of patients are  \n",
    "healthcare[['Hospital','Name']].groupby('Hospital')[['Name']].count().rename(\n",
    "    columns = {'Name':'Patient Count'}).sort_values('Patient Count',ascending = False).reset_index()"
   ]
  },
  {
   "cell_type": "code",
   "execution_count": 225,
   "id": "6c819037",
   "metadata": {},
   "outputs": [],
   "source": [
    "healthcare.head()"
   ]
  },
  {
   "cell_type": "code",
   "execution_count": 226,
   "id": "1737af75",
   "metadata": {},
   "outputs": [],
   "source": [
    "common_medical_patients = healthcare.groupby('Medical Condition')[['Medical Condition']].count()\n",
    "common_medical_patients"
   ]
  },
  {
   "cell_type": "code",
   "execution_count": 227,
   "id": "e8b2d562",
   "metadata": {},
   "outputs": [],
   "source": [
    "plt.figure(figsize =(12,4))\n",
    "ax= sns.countplot(data= healthcare, \n",
    "                  x = 'Medical Condition',\n",
    "                  palette = 'GnBu_r',\n",
    "                  order = healthcare['Medical Condition'].value_counts().index)\n",
    "for bars in ax.containers:\n",
    "    ax.bar_label(ax.containers[0])"
   ]
  },
  {
   "cell_type": "code",
   "execution_count": 228,
   "id": "aedb6bca",
   "metadata": {},
   "outputs": [],
   "source": [
    "healthcare.head()"
   ]
  },
  {
   "cell_type": "code",
   "execution_count": 229,
   "id": "8a526c0c",
   "metadata": {},
   "outputs": [],
   "source": [
    "healthcare['Insurance Provider'].unique()"
   ]
  },
  {
   "cell_type": "code",
   "execution_count": 230,
   "id": "fb9308d6",
   "metadata": {},
   "outputs": [],
   "source": [
    "healthcare['Insurance Provider'].value_counts()"
   ]
  },
  {
   "cell_type": "code",
   "execution_count": 231,
   "id": "c5e8ec62",
   "metadata": {},
   "outputs": [],
   "source": [
    "plt.figure(figsize =(12,4))\n",
    "ax = sns.countplot(data = healthcare,\n",
    "                   x='Insurance Provider',\n",
    "                   palette = 'Purples',\n",
    "                  order = healthcare['Insurance Provider'].value_counts().index)\n",
    "for bars in ax.containers:\n",
    "    ax.bar_label(ax.containers[0]);"
   ]
  },
  {
   "cell_type": "code",
   "execution_count": 232,
   "id": "2cd1b809",
   "metadata": {},
   "outputs": [],
   "source": [
    "healthcare.head()"
   ]
  },
  {
   "cell_type": "code",
   "execution_count": 233,
   "id": "b8574a4c",
   "metadata": {},
   "outputs": [],
   "source": [
    "avg_billing_amt = round(healthcare[['Admission Type','Billing Amount']].groupby('Admission Type').mean(),2)\n",
    "avg_billing_amt.rename(columns={'Billing Amount':'Average Billing Amount'},inplace = True)\n",
    "avg_billing_amt = avg_billing_amt.sort_values('Average Billing Amount',ascending = False)\n",
    "avg_billing_amt"
   ]
  },
  {
   "cell_type": "code",
   "execution_count": 234,
   "id": "2cc3e1a5",
   "metadata": {},
   "outputs": [],
   "source": [
    "plt.figure(figsize =(6,3))\n",
    "\n",
    "ax = sns.barplot(data = avg_billing_amt , \n",
    "                 x = avg_billing_amt.index,\n",
    "                 y = 'Average Billing Amount',\n",
    "                 palette = 'gist_earth_r' )\n",
    "for bars in ax.containers:\n",
    "    ax.bar_label(bars)"
   ]
  },
  {
   "cell_type": "code",
   "execution_count": 235,
   "id": "f9816e07",
   "metadata": {},
   "outputs": [],
   "source": [
    "healthcare.head()"
   ]
  },
  {
   "cell_type": "code",
   "execution_count": 236,
   "id": "66d74e74",
   "metadata": {},
   "outputs": [],
   "source": [
    "distribution = pd.DataFrame(healthcare[['Name','Room Number']].value_counts() )\n",
    "distribution"
   ]
  },
  {
   "cell_type": "code",
   "execution_count": 237,
   "id": "d44d39b6",
   "metadata": {},
   "outputs": [],
   "source": [
    "distribution[distribution['count']>=2]"
   ]
  },
  {
   "cell_type": "code",
   "execution_count": 238,
   "id": "681776bc",
   "metadata": {},
   "outputs": [],
   "source": [
    "healthcare.head()"
   ]
  },
  {
   "cell_type": "code",
   "execution_count": 239,
   "id": "81e671d9",
   "metadata": {},
   "outputs": [],
   "source": [
    "doctor = pd.DataFrame(healthcare[['Doctor','Name']].groupby('Doctor')['Name'].count())\n",
    "doctor.rename(columns={'Name':'Counts'},inplace= True)\n",
    "doctor = doctor[doctor['Counts']>=2].sort_values('Counts',ascending = False)\n",
    "doctor"
   ]
  },
  {
   "cell_type": "code",
   "execution_count": 240,
   "id": "7ffae119",
   "metadata": {},
   "outputs": [],
   "source": [
    "doctor[(doctor['Counts']>=2) & (doctor['Counts']<=7)]"
   ]
  },
  {
   "cell_type": "code",
   "execution_count": 241,
   "id": "6fb199a2",
   "metadata": {},
   "outputs": [],
   "source": [
    "healthcare.info()"
   ]
  },
  {
   "cell_type": "code",
   "execution_count": 242,
   "id": "6353dd9e",
   "metadata": {},
   "outputs": [],
   "source": [
    "healthcare['doa_month'] = healthcare['Date of Admission'].dt.month\n",
    "healthcare['doa_year'] = healthcare['Date of Admission'].dt.year\n",
    "healthcare.info()"
   ]
  },
  {
   "cell_type": "code",
   "execution_count": 243,
   "id": "c232c1a2",
   "metadata": {},
   "outputs": [],
   "source": [
    "admission_by_year = healthcare[['Date of Admission','doa_year']].groupby(['doa_year']).count()\n",
    "admission_by_year"
   ]
  },
  {
   "cell_type": "code",
   "execution_count": 244,
   "id": "285735c5",
   "metadata": {},
   "outputs": [],
   "source": [
    "plt.figure(figsize=(10,4))\n",
    "sns.lineplot(data = admission_by_year,y='Date of Admission',x='doa_year')\n",
    "plt.xlabel('Year');"
   ]
  },
  {
   "cell_type": "code",
   "execution_count": 245,
   "id": "933f2ac2",
   "metadata": {},
   "outputs": [],
   "source": [
    "year = healthcare[['Date of Admission','doa_year','doa_month']].groupby(['doa_year','doa_month']).count()\n",
    "year.reset_index(inplace = True)\n",
    "year.rename(columns={'Date of Admission': 'Counts'},inplace = True)\n",
    "year"
   ]
  },
  {
   "cell_type": "code",
   "execution_count": 246,
   "id": "05a9f785",
   "metadata": {},
   "outputs": [],
   "source": [
    "year_2018 = year[year['doa_year'] == 2018]\n",
    "\n",
    "year_2019 = year[year['doa_year'] == 2019]\n",
    "\n",
    "year_2020 = year[year['doa_year'] == 2020]\n",
    "\n",
    "year_2021 = year[year['doa_year'] == 2021]\n",
    "\n",
    "year_2022 = year[year['doa_year'] == 2022]\n",
    "\n",
    "year_2023 = year[year['doa_year'] == 2023]"
   ]
  },
  {
   "cell_type": "code",
   "execution_count": 247,
   "id": "d802cbfe",
   "metadata": {},
   "outputs": [],
   "source": [
    "# creating subplots\n",
    "plt.figure(figsize=(12,15))\n",
    "\n",
    "plt.subplot(3,3,1)\n",
    "plt.xlabel('Months')\n",
    "plt.ylabel('Counts')\n",
    "plt.title('Year 2018')\n",
    "sns.lineplot(data = year_2018,x='doa_month', y='Counts');\n",
    "\n",
    "plt.subplot(3,3,2)\n",
    "plt.xlabel('Months')\n",
    "plt.ylabel('Counts')\n",
    "plt.title('Year 2019')\n",
    "sns.lineplot(data = year_2019,x='doa_month', y='Counts');\n",
    "\n",
    "plt.subplot(3,3,3)\n",
    "plt.xlabel('Months')\n",
    "plt.ylabel('Counts')\n",
    "plt.title('Year 2020')\n",
    "sns.lineplot(data = year_2020,x='doa_month', y='Counts');\n",
    "\n",
    "plt.subplot(3,3,4)\n",
    "plt.xlabel('Months')\n",
    "plt.ylabel('Counts')\n",
    "plt.title('Year 2021')\n",
    "sns.lineplot(data = year_2021,x='doa_month', y='Counts');\n",
    "\n",
    "plt.subplot(3,3,5)\n",
    "plt.xlabel('Months')\n",
    "plt.ylabel('Counts')\n",
    "plt.title('Year 2022')\n",
    "sns.lineplot(data = year_2022,x='doa_month', y='Counts');\n",
    "\n",
    "plt.subplot(3,3,6)\n",
    "plt.xlabel('Months')\n",
    "plt.ylabel('Counts')\n",
    "plt.title('Year 2023')\n",
    "sns.lineplot(data = year_2023,x='doa_month', y='Counts');"
   ]
  },
  {
   "cell_type": "code",
   "execution_count": 248,
   "id": "25f87078",
   "metadata": {},
   "outputs": [],
   "source": [
    "healthcare.head()"
   ]
  },
  {
   "cell_type": "code",
   "execution_count": 249,
   "id": "0aa03e17",
   "metadata": {},
   "outputs": [],
   "source": [
    "healthcare.info()"
   ]
  },
  {
   "cell_type": "code",
   "execution_count": 250,
   "id": "c125bfcb",
   "metadata": {},
   "outputs": [],
   "source": [
    "Age_Billing_Amount_corr = healthcare['Age'].corr(healthcare['Billing Amount'])\n",
    "print('Patients Age And Billing Amount has correlation of {}'.format(Age_Billing_Amount_corr))"
   ]
  },
  {
   "cell_type": "code",
   "execution_count": 251,
   "id": "4ed5a9f5",
   "metadata": {},
   "outputs": [],
   "source": [
    "healthcare.head()"
   ]
  },
  {
   "cell_type": "code",
   "execution_count": 252,
   "id": "f06666ab",
   "metadata": {},
   "outputs": [],
   "source": [
    "average_stay_hospital = (healthcare['Discharge Date'] - healthcare['Date of Admission']).dt.days.mean()\n",
    "print('Average Stay of patients in Hospital is {}.'.format(round(average_stay_hospital)))"
   ]
  },
  {
   "cell_type": "code",
   "execution_count": 253,
   "id": "bb7fff50",
   "metadata": {},
   "outputs": [],
   "source": [
    "healthcare.head()"
   ]
  },
  {
   "cell_type": "code",
   "execution_count": 254,
   "id": "72371495",
   "metadata": {},
   "outputs": [],
   "source": [
    "avg_amt_paid_by_gender = round(healthcare[['Gender','Billing Amount']].groupby('Gender')[['Billing Amount']].mean(),2)\n",
    "avg_amt_paid_by_gender.rename(columns={'Billing Amount':'Average Billing amount'},inplace = True)\n",
    "avg_amt_paid_by_gender"
   ]
  },
  {
   "cell_type": "code",
   "execution_count": 255,
   "id": "368785b1",
   "metadata": {},
   "outputs": [],
   "source": [
    "healthcare.head()"
   ]
  },
  {
   "cell_type": "code",
   "execution_count": 256,
   "id": "9d8ca715",
   "metadata": {},
   "outputs": [],
   "source": [
    "admission_type_trend = healthcare[['Admission Type','doa_year']].groupby(['Admission Type','doa_year'])[['Admission Type']].count()\n",
    "admission_type_trend.rename(columns={'Admission Type':'Counts'},inplace = True)\n",
    "admission_type_trend.reset_index(inplace = True)\n",
    "admission_type_trend"
   ]
  },
  {
   "cell_type": "code",
   "execution_count": 257,
   "id": "106d69f3",
   "metadata": {},
   "outputs": [],
   "source": [
    "elective = admission_type_trend[admission_type_trend['Admission Type'] == 'Elective']\n",
    "\n",
    "emergency = admission_type_trend[admission_type_trend['Admission Type'] == 'Emergency']\n",
    "\n",
    "urgent = admission_type_trend[admission_type_trend['Admission Type'] == 'Urgent']\n",
    " "
   ]
  },
  {
   "cell_type": "code",
   "execution_count": 258,
   "id": "46d68693",
   "metadata": {},
   "outputs": [],
   "source": [
    "\n",
    "plt.figure(figsize=(10,3))\n",
    "plt.tight_layout()\n",
    "\n",
    "ax1 = plt.subplot(1,3,1)\n",
    "ax = sns.barplot(data = elective,x = 'doa_year', y = 'Counts', palette = 'afmhot')\n",
    "for bars in ax.containers:\n",
    "    ax.bar_label(ax.containers[0])\n",
    "plt.xlabel('Year')\n",
    "plt.ylabel('Counts')\n",
    "plt.title('Admission Type - Elective');\n",
    "\n",
    "ax2 = plt.subplot(1,3,2,sharey=ax1)\n",
    "ax = sns.barplot(data = emergency,x = 'doa_year', y = 'Counts', palette = 'afmhot')\n",
    "for bars in ax.containers:\n",
    "    ax.bar_label(ax.containers[0])\n",
    "plt.xlabel('Year')\n",
    "plt.ylabel('Counts')\n",
    "plt.title('Admission Type - Emergency');\n",
    "\n",
    "ax3 = plt.subplot(1,3,3,sharey =ax1)\n",
    "ax = sns.barplot(data = urgent,x = 'doa_year', y = 'Counts', palette = 'afmhot')\n",
    "for bars in ax.containers:\n",
    "    ax.bar_label(ax.containers[0])\n",
    "plt.xlabel('Year')\n",
    "plt.ylabel('Counts')\n",
    "plt.title('Admission Type - Urgent');"
   ]
  },
  {
   "cell_type": "code",
   "execution_count": 259,
   "id": "1d6e9014",
   "metadata": {},
   "outputs": [],
   "source": [
    "healthcare.head()"
   ]
  },
  {
   "cell_type": "code",
   "execution_count": 260,
   "id": "04cad6df",
   "metadata": {},
   "outputs": [],
   "source": [
    "healthcare.groupby('Medical Condition')['Billing Amount'].describe()"
   ]
  },
  {
   "cell_type": "code",
   "execution_count": 261,
   "id": "dea536ff",
   "metadata": {},
   "outputs": [],
   "source": [
    "avg_billing_amt = round(healthcare.groupby('Medical Condition')[['Billing Amount']].mean().rename(\n",
    "    columns={'Billing Amount': 'Average Billing Amount'}).sort_values('Average Billing Amount',ascending = False).reset_index(),2)\n",
    "avg_billing_amt"
   ]
  },
  {
   "cell_type": "code",
   "execution_count": 262,
   "id": "b1b3714e",
   "metadata": {},
   "outputs": [],
   "source": [
    "ax = sns.boxplot(data = healthcare, x = 'Medical Condition', y = 'Billing Amount',palette='YlGn_r');"
   ]
  },
  {
   "cell_type": "code",
   "execution_count": 263,
   "id": "032801bd",
   "metadata": {},
   "outputs": [],
   "source": [
    "healthcare.head()"
   ]
  },
  {
   "cell_type": "code",
   "execution_count": 264,
   "id": "de6fb475",
   "metadata": {},
   "outputs": [],
   "source": [
    "medication_pattern = healthcare.pivot_table(index ='Medical Condition',columns = 'Medication',aggfunc='size')\n",
    "medication_pattern"
   ]
  },
  {
   "cell_type": "code",
   "execution_count": 265,
   "id": "1c8c5a80",
   "metadata": {},
   "outputs": [],
   "source": [
    "sns.heatmap(medication_pattern, annot = True,fmt ='g' );"
   ]
  },
  {
   "cell_type": "code",
   "execution_count": 266,
   "id": "480e7c4f",
   "metadata": {},
   "outputs": [],
   "source": [
    "healthcare.head()"
   ]
  },
  {
   "cell_type": "code",
   "execution_count": 267,
   "id": "543b26c3",
   "metadata": {},
   "outputs": [],
   "source": [
    "pd.DataFrame(healthcare['Test Results'].value_counts()).rename(columns = {'count':'Counts'})"
   ]
  },
  {
   "cell_type": "code",
   "execution_count": 268,
   "id": "6e9c2de6",
   "metadata": {},
   "outputs": [],
   "source": [
    "test_results_distribution = healthcare[['Test Results','Name']].groupby('Test Results')[['Name']].count().rename(columns={'Name':'Count'})\n",
    "test_results_distribution"
   ]
  },
  {
   "cell_type": "code",
   "execution_count": 269,
   "id": "5d8516f9",
   "metadata": {},
   "outputs": [],
   "source": [
    "plt.figure(figsize = (6,4))\n",
    "plt.title('Test Results Distribution')\n",
    "plt.xlabel('Test Results')\n",
    "ax = sns.barplot(data = test_results_distribution, x = test_results_distribution.index,y = 'Count' ,palette = 'viridis');\n",
    "for bars in ax.containers:\n",
    "    ax.bar_label(bars)"
   ]
  },
  {
   "cell_type": "code",
   "execution_count": 270,
   "id": "315f4cd6",
   "metadata": {},
   "outputs": [],
   "source": [
    "healthcare.head()"
   ]
  },
  {
   "cell_type": "code",
   "execution_count": 271,
   "id": "c8e92183",
   "metadata": {},
   "outputs": [],
   "source": [
    "healthcare['Days in Hospital'] = (healthcare['Discharge Date'] - healthcare['Date of Admission']).dt.days"
   ]
  },
  {
   "cell_type": "code",
   "execution_count": 272,
   "id": "b535700e",
   "metadata": {},
   "outputs": [],
   "source": [
    "healthcare[['Days in Hospital','Medication']].groupby('Medication')[['Days in Hospital']].mean()"
   ]
  },
  {
   "cell_type": "code",
   "execution_count": 273,
   "id": "f43e4d0f",
   "metadata": {},
   "outputs": [],
   "source": [
    "healthcare[['Days in Hospital','Medication']].groupby('Medication')[['Days in Hospital']].describe()"
   ]
  },
  {
   "cell_type": "code",
   "execution_count": 274,
   "id": "07f3f61e",
   "metadata": {},
   "outputs": [],
   "source": [
    "plt.figure(figsize=(10,4))\n",
    "sns.boxplot(data = healthcare, x = 'Medication', y='Days in Hospital', palette = 'GnBu');"
   ]
  },
  {
   "cell_type": "code",
   "execution_count": 275,
   "id": "a7f4596a",
   "metadata": {},
   "outputs": [],
   "source": [
    "healthcare.head()"
   ]
  },
  {
   "cell_type": "code",
   "execution_count": 276,
   "id": "d351f0a2",
   "metadata": {},
   "outputs": [],
   "source": [
    "Insurance_Provider_avg_Billing_amt = round(healthcare[['Insurance Provider','Billing Amount']].groupby('Insurance Provider').mean(),2).rename(columns = {'Billing Amount':'Average Billing Amount'}).sort_values('Average Billing Amount',ascending = False)\n",
    "Insurance_Provider_avg_Billing_amt"
   ]
  },
  {
   "cell_type": "code",
   "execution_count": 277,
   "id": "42d5ea25",
   "metadata": {},
   "outputs": [],
   "source": [
    "plt.figure(figsize=(6,4))\n",
    "plt.title('Average Billing Amount by Insurance Provider')\n",
    "sns.lineplot(data= Insurance_Provider_avg_Billing_amt,\n",
    "             x =Insurance_Provider_avg_Billing_amt.index,\n",
    "             y = 'Average Billing Amount');"
   ]
  },
  {
   "cell_type": "code",
   "execution_count": 278,
   "id": "710966bd",
   "metadata": {},
   "outputs": [],
   "source": [
    "healthcare.head()"
   ]
  },
  {
   "cell_type": "code",
   "execution_count": 279,
   "id": "d0e67096",
   "metadata": {},
   "outputs": [],
   "source": [
    "seasonal_trend_2018 = healthcare[healthcare['doa_year']==2018]\n",
    "seasonal_trend_2018 = seasonal_trend_2018[['doa_month','Name']].groupby('doa_month')[['Name']].count().reset_index().rename(columns ={'Name':'Patient_count'})\n",
    "seasonal_trend_2018"
   ]
  },
  {
   "cell_type": "code",
   "execution_count": 280,
   "id": "00fe6d01",
   "metadata": {},
   "outputs": [],
   "source": [
    "seasonal_trend_2019 = healthcare[healthcare['doa_year']==2019]\n",
    "seasonal_trend_2019 = seasonal_trend_2019[['doa_month','Name']].groupby('doa_month')[['Name']].count().reset_index().rename(columns ={'Name':'Patient_count'})\n",
    "seasonal_trend_2019"
   ]
  },
  {
   "cell_type": "code",
   "execution_count": 281,
   "id": "f4290a37",
   "metadata": {},
   "outputs": [],
   "source": [
    "seasonal_trend_2020 = healthcare[healthcare['doa_year']==2020]\n",
    "seasonal_trend_2020 = seasonal_trend_2020[['doa_month','Name']].groupby('doa_month')[['Name']].count().reset_index().rename(columns ={'Name':'Patient_count'})\n",
    "seasonal_trend_2020"
   ]
  },
  {
   "cell_type": "code",
   "execution_count": 282,
   "id": "4ef972bc",
   "metadata": {},
   "outputs": [],
   "source": [
    "seasonal_trend_2021 = healthcare[healthcare['doa_year']==2021]\n",
    "seasonal_trend_2021 = seasonal_trend_2021[['doa_month','Name']].groupby('doa_month')[['Name']].count().reset_index().rename(columns ={'Name':'Patient_count'})"
   ]
  },
  {
   "cell_type": "code",
   "execution_count": 283,
   "id": "823146ae",
   "metadata": {},
   "outputs": [],
   "source": [
    "seasonal_trend_2022 = healthcare[healthcare['doa_year']==2022]\n",
    "seasonal_trend_2022 = seasonal_trend_2022[['doa_month','Name']].groupby('doa_month')[['Name']].count().reset_index().rename(columns ={'Name':'Patient_count'})"
   ]
  },
  {
   "cell_type": "code",
   "execution_count": 284,
   "id": "f649a343",
   "metadata": {},
   "outputs": [],
   "source": [
    "seasonal_trend_2023 = healthcare[healthcare['doa_year']==2023]\n",
    "seasonal_trend_2023 = seasonal_trend_2023[['doa_month','Name']].groupby('doa_month')[['Name']].count().reset_index().rename(columns ={'Name':'Patient_count'})"
   ]
  },
  {
   "cell_type": "code",
   "execution_count": 285,
   "id": "17a4b509",
   "metadata": {},
   "outputs": [],
   "source": [
    "plt.figure(figsize=(4,2))\n",
    "plt.title('Seasonal Trend of Year 2018')\n",
    "ax = sns.barplot(data= seasonal_trend_2018, x = 'doa_month',y = 'Patient_count',palette = 'gnuplot');\n",
    "for bars in ax.containers:\n",
    "    ax.bar_label(bars)\n",
    "plt.ylabel('Patiet Counts')\n",
    "plt.xlabel('Month');"
   ]
  },
  {
   "cell_type": "code",
   "execution_count": 286,
   "id": "cd7db93d",
   "metadata": {},
   "outputs": [],
   "source": [
    "plt.figure(figsize=(8,4))\n",
    "plt.title('Seasonal Trend of Year 2019')\n",
    "ax = sns.barplot(data= seasonal_trend_2019, x = 'doa_month',y = 'Patient_count',palette = 'gnuplot');\n",
    "for bars in ax.containers:\n",
    "    ax.bar_label(bars)\n",
    "plt.ylabel('Patiet Counts')\n",
    "plt.xlabel('Month');"
   ]
  },
  {
   "cell_type": "code",
   "execution_count": 287,
   "id": "79d30d00",
   "metadata": {},
   "outputs": [],
   "source": [
    "plt.figure(figsize=(8,4))\n",
    "plt.title('Seasonal Trend of Year 2020')\n",
    "ax = sns.barplot(data= seasonal_trend_2020, x = 'doa_month',y = 'Patient_count',palette = 'gnuplot');\n",
    "for bars in ax.containers:\n",
    "    ax.bar_label(bars)\n",
    "plt.ylabel('Patiet Counts')\n",
    "plt.xlabel('Month');"
   ]
  },
  {
   "cell_type": "code",
   "execution_count": 288,
   "id": "aff69325",
   "metadata": {},
   "outputs": [],
   "source": [
    "plt.figure(figsize=(8,4))\n",
    "plt.title('Seasonal Trend of Year 2021')\n",
    "ax = sns.barplot(data= seasonal_trend_2021, x = 'doa_month',y = 'Patient_count',palette = 'gnuplot');\n",
    "for bars in ax.containers:\n",
    "    ax.bar_label(bars)\n",
    "plt.ylabel('Patiet Counts')\n",
    "plt.xlabel('Month');"
   ]
  },
  {
   "cell_type": "code",
   "execution_count": 289,
   "id": "8cee90be",
   "metadata": {},
   "outputs": [],
   "source": [
    "plt.figure(figsize=(8,4))\n",
    "plt.title('Seasonal Trend of Year 2022')\n",
    "ax = sns.barplot(data= seasonal_trend_2022, x = 'doa_month',y = 'Patient_count',palette = 'gnuplot');\n",
    "for bars in ax.containers:\n",
    "    ax.bar_label(bars)\n",
    "plt.ylabel('Patiet Counts')\n",
    "plt.xlabel('Month');"
   ]
  },
  {
   "cell_type": "code",
   "execution_count": 290,
   "id": "a5d3cdb6",
   "metadata": {},
   "outputs": [],
   "source": [
    "plt.figure(figsize=(8,4))\n",
    "plt.title('Seasonal Trend of Year 2023')\n",
    "ax = sns.barplot(data= seasonal_trend_2023, x = 'doa_month',y = 'Patient_count',palette = 'gnuplot');\n",
    "for bars in ax.containers:\n",
    "    ax.bar_label(bars)\n",
    "plt.ylabel('Patiet Counts')\n",
    "plt.xlabel('Month');"
   ]
  },
  {
   "cell_type": "code",
   "execution_count": 291,
   "id": "df6e054f",
   "metadata": {},
   "outputs": [],
   "source": [
    "plt.figure(figsize=(15,10))\n",
    "\n",
    "\n",
    "plt.subplot(2,3,1)\n",
    "plt.title('Seasonal Trend of Year 2018')\n",
    "ax = sns.barplot(data= seasonal_trend_2018, x = 'doa_month',y = 'Patient_count',palette = 'gnuplot');\n",
    "for bars in ax.containers:\n",
    "    ax.bar_label(bars)\n",
    "plt.ylabel('Patiet Counts')\n",
    "plt.xlabel('Month')\n",
    "\n",
    "plt.subplot(2,3,2)\n",
    "plt.title('Seasonal Trend of Year 2019')\n",
    "ax = sns.barplot(data= seasonal_trend_2019, x = 'doa_month',y = 'Patient_count',palette = 'gnuplot');\n",
    "for bars in ax.containers:\n",
    "    ax.bar_label(bars)\n",
    "plt.ylabel('Patiet Counts')\n",
    "plt.xlabel('Month')\n",
    "\n",
    "plt.subplot(2,3,3)\n",
    "plt.title('Seasonal Trend of Year 2020')\n",
    "ax = sns.barplot(data= seasonal_trend_2020, x = 'doa_month',y = 'Patient_count',palette = 'gnuplot');\n",
    "for bars in ax.containers:\n",
    "    ax.bar_label(bars)\n",
    "plt.ylabel('Patiet Counts')\n",
    "plt.xlabel('Month')\n",
    "\n",
    "plt.subplot(2,3,4)\n",
    "plt.title('Seasonal Trend of Year 2021')\n",
    "ax = sns.barplot(data= seasonal_trend_2021, x = 'doa_month',y = 'Patient_count',palette = 'gnuplot');\n",
    "for bars in ax.containers:\n",
    "    ax.bar_label(bars)\n",
    "plt.ylabel('Patiet Counts')\n",
    "plt.xlabel('Month')\n",
    "\n",
    "plt.subplot(2,3,5)\n",
    "plt.title('Seasonal Trend of Year 2022')\n",
    "ax = sns.barplot(data= seasonal_trend_2022, x = 'doa_month',y = 'Patient_count',palette = 'gnuplot');\n",
    "for bars in ax.containers:\n",
    "    ax.bar_label(bars)\n",
    "plt.ylabel('Patiet Counts')\n",
    "plt.xlabel('Month')\n",
    "\n",
    "plt.subplot(2,3,6)\n",
    "plt.title('Seasonal Trend of Year 2023')\n",
    "ax = sns.barplot(data= seasonal_trend_2023, x = 'doa_month',y = 'Patient_count',palette = 'gnuplot');\n",
    "for bars in ax.containers:\n",
    "    ax.bar_label(bars)\n",
    "plt.ylabel('Patiet Counts')\n",
    "plt.xlabel('Month');"
   ]
  },
  {
   "cell_type": "code",
   "execution_count": 292,
   "id": "2c3b650b",
   "metadata": {},
   "outputs": [],
   "source": [
    "healthcare.head()"
   ]
  },
  {
   "cell_type": "code",
   "execution_count": 293,
   "id": "bd029efe",
   "metadata": {},
   "outputs": [],
   "source": [
    "avg_days_in_hospital = round(healthcare[['Medical Condition','Days in Hospital']].groupby('Medical Condition')[['Days in Hospital']].mean()).rename(\n",
    "columns = {'Days in Hospital':'Average Count of Days'})\n",
    "avg_days_in_hospital.reset_index()"
   ]
  },
  {
   "cell_type": "code",
   "execution_count": 294,
   "id": "1f3b87a7",
   "metadata": {},
   "outputs": [],
   "source": [
    "healthcare.head()"
   ]
  },
  {
   "cell_type": "code",
   "execution_count": 295,
   "id": "8776add2",
   "metadata": {},
   "outputs": [],
   "source": [
    " (( healthcare['Billing Amount'] - healthcare['Billing Amount'].mean() )/healthcare['Billing Amount'].std()).abs()\n",
    "healthcare['zscore_Billing_Amount'] = (( healthcare['Billing Amount'] - healthcare['Billing Amount'].mean() )/healthcare['Billing Amount'].std()).abs()\n",
    "healthcare.head()"
   ]
  },
  {
   "cell_type": "code",
   "execution_count": 296,
   "id": "fbcc9891",
   "metadata": {},
   "outputs": [],
   "source": [
    "threshold_limit = 3\n",
    "healthcare[healthcare['zscore_Billing_Amount'] > threshold_limit]"
   ]
  }
 ],
 "metadata": {},
 "nbformat": 4,
 "nbformat_minor": 5
}
